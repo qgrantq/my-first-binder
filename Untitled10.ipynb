{
  "nbformat": 4,
  "nbformat_minor": 0,
  "metadata": {
    "colab": {
      "name": "Untitled10.ipynb",
      "provenance": [],
      "collapsed_sections": [],
      "authorship_tag": "ABX9TyNs9SByFii2zndzHAEYOUc1",
      "include_colab_link": true
    },
    "kernelspec": {
      "name": "python3",
      "display_name": "Python 3"
    },
    "language_info": {
      "name": "python"
    },
    "accelerator": "GPU",
    "gpuClass": "standard"
  },
  "cells": [
    {
      "cell_type": "markdown",
      "metadata": {
        "id": "view-in-github",
        "colab_type": "text"
      },
      "source": [
        "<a href=\"https://colab.research.google.com/github/qgrantq/my-first-binder/blob/main/Untitled10.ipynb\" target=\"_parent\"><img src=\"https://colab.research.google.com/assets/colab-badge.svg\" alt=\"Open In Colab\"/></a>"
      ]
    },
    {
      "cell_type": "code",
      "execution_count": null,
      "metadata": {
        "id": "QmDP0BPPnhqS"
      },
      "outputs": [],
      "source": [
        "! [ -e /content ] && pip install -Uqq fastbook\n",
        "import fastbook\n",
        "fastbook.setup_book()"
      ]
    },
    {
      "cell_type": "code",
      "source": [
        "from fastai.vision.all import *\n",
        "from fastbook import *\n",
        "\n",
        "matplotlib.rc('image', cmap='Greys')"
      ],
      "metadata": {
        "id": "RJBHMOL-nmWx"
      },
      "execution_count": 4,
      "outputs": []
    },
    {
      "cell_type": "code",
      "source": [
        "path = untar_data(URLs.MNIST_SAMPLE)"
      ],
      "metadata": {
        "colab": {
          "base_uri": "https://localhost:8080/",
          "height": 37
        },
        "id": "ugeet76goHRY",
        "outputId": "eb59658d-c225-4283-e2d5-ae17616a763c"
      },
      "execution_count": 5,
      "outputs": [
        {
          "output_type": "display_data",
          "data": {
            "text/plain": [
              "<IPython.core.display.HTML object>"
            ],
            "text/html": [
              "\n",
              "<style>\n",
              "    /* Turns off some styling */\n",
              "    progress {\n",
              "        /* gets rid of default border in Firefox and Opera. */\n",
              "        border: none;\n",
              "        /* Needs to be in here for Safari polyfill so background images work as expected. */\n",
              "        background-size: auto;\n",
              "    }\n",
              "    .progress-bar-interrupted, .progress-bar-interrupted::-webkit-progress-bar {\n",
              "        background: #F44336;\n",
              "    }\n",
              "</style>\n"
            ]
          },
          "metadata": {}
        },
        {
          "output_type": "display_data",
          "data": {
            "text/plain": [
              "<IPython.core.display.HTML object>"
            ],
            "text/html": [
              "\n",
              "    <div>\n",
              "      <progress value='3219456' class='' max='3214948' style='width:300px; height:20px; vertical-align: middle;'></progress>\n",
              "      100.14% [3219456/3214948 00:01<00:00]\n",
              "    </div>\n",
              "    "
            ]
          },
          "metadata": {}
        }
      ]
    },
    {
      "cell_type": "code",
      "source": [
        "path"
      ],
      "metadata": {
        "colab": {
          "base_uri": "https://localhost:8080/"
        },
        "id": "gM4cMp3goMLn",
        "outputId": "70e1711d-964e-43d5-82a3-bdd0441a74b0"
      },
      "execution_count": 4,
      "outputs": [
        {
          "output_type": "execute_result",
          "data": {
            "text/plain": [
              "Path('/root/.fastai/data/mnist_sample')"
            ]
          },
          "metadata": {},
          "execution_count": 4
        }
      ]
    },
    {
      "cell_type": "code",
      "source": [
        "Path.BASE_PATH = path"
      ],
      "metadata": {
        "id": "LF1rwX4zoWHP"
      },
      "execution_count": 6,
      "outputs": []
    },
    {
      "cell_type": "code",
      "source": [
        "path.ls()"
      ],
      "metadata": {
        "colab": {
          "base_uri": "https://localhost:8080/"
        },
        "id": "mNGsAqKXobcm",
        "outputId": "3aa054fc-4d5f-45ea-ed98-b8028b9d588e"
      },
      "execution_count": 69,
      "outputs": [
        {
          "output_type": "execute_result",
          "data": {
            "text/plain": [
              "(#3) [Path('valid'),Path('train'),Path('labels.csv')]"
            ]
          },
          "metadata": {},
          "execution_count": 69
        }
      ]
    },
    {
      "cell_type": "code",
      "source": [
        "(path/'train').ls()"
      ],
      "metadata": {
        "colab": {
          "base_uri": "https://localhost:8080/"
        },
        "id": "-A81bpaLorbe",
        "outputId": "1ff4d7d4-3cd7-4ce3-9e16-d5a39dd41845"
      },
      "execution_count": 70,
      "outputs": [
        {
          "output_type": "execute_result",
          "data": {
            "text/plain": [
              "(#2) [Path('train/3'),Path('train/7')]"
            ]
          },
          "metadata": {},
          "execution_count": 70
        }
      ]
    },
    {
      "cell_type": "code",
      "source": [
        "threes = (path/'train'/'3').ls().sorted()\n",
        "sevens = (path/'train'/'7').ls().sorted()\n",
        "threes"
      ],
      "metadata": {
        "colab": {
          "base_uri": "https://localhost:8080/"
        },
        "id": "rPEZhQa5o9oA",
        "outputId": "ec2c2fed-ca7d-4a5c-d104-4e09597b6e79"
      },
      "execution_count": 7,
      "outputs": [
        {
          "output_type": "execute_result",
          "data": {
            "text/plain": [
              "(#6131) [Path('train/3/10.png'),Path('train/3/10000.png'),Path('train/3/10011.png'),Path('train/3/10031.png'),Path('train/3/10034.png'),Path('train/3/10042.png'),Path('train/3/10052.png'),Path('train/3/1007.png'),Path('train/3/10074.png'),Path('train/3/10091.png')...]"
            ]
          },
          "metadata": {},
          "execution_count": 7
        }
      ]
    },
    {
      "cell_type": "code",
      "source": [
        "im3_path = threes[1]\n",
        "im3 = Image.open(im3_path)\n",
        "print(im3.size)\n",
        "im3"
      ],
      "metadata": {
        "colab": {
          "base_uri": "https://localhost:8080/",
          "height": 62
        },
        "id": "-x1ynrXupCYg",
        "outputId": "639b116b-bc4b-4036-c110-18f2ae176d47"
      },
      "execution_count": 72,
      "outputs": [
        {
          "output_type": "stream",
          "name": "stdout",
          "text": [
            "(28, 28)\n"
          ]
        },
        {
          "output_type": "execute_result",
          "data": {
            "text/plain": [
              "<PIL.PngImagePlugin.PngImageFile image mode=L size=28x28 at 0x7F181641CDD0>"
            ],
            "image/png": "[encoded data removed]"
          },
          "metadata": {},
          "execution_count": 72
        }
      ]
    },
    {
      "cell_type": "code",
      "source": [
        "# numpy array\n",
        "array(im3)[4:10,4:10]"
      ],
      "metadata": {
        "colab": {
          "base_uri": "https://localhost:8080/"
        },
        "id": "tFCvYfOkpyP6",
        "outputId": "00e4ab7e-988e-489f-dd72-d44ce9ab481a"
      },
      "execution_count": 73,
      "outputs": [
        {
          "output_type": "execute_result",
          "data": {
            "text/plain": [
              "array([[  0,   0,   0,   0,   0,   0],\n",
              "       [  0,   0,   0,   0,   0,  29],\n",
              "       [  0,   0,   0,  48, 166, 224],\n",
              "       [  0,  93, 244, 249, 253, 187],\n",
              "       [  0, 107, 253, 253, 230,  48],\n",
              "       [  0,   3,  20,  20,  15,   0]], dtype=uint8)"
            ]
          },
          "metadata": {},
          "execution_count": 73
        }
      ]
    },
    {
      "cell_type": "code",
      "source": [
        "# pytorch tensor\n",
        "tensor(im3)[4:10,4:10]"
      ],
      "metadata": {
        "colab": {
          "base_uri": "https://localhost:8080/"
        },
        "id": "eM1hFCX1p8zs",
        "outputId": "d21ff367-b748-49a7-af3c-8b678b8e060e"
      },
      "execution_count": 16,
      "outputs": [
        {
          "output_type": "execute_result",
          "data": {
            "text/plain": [
              "tensor([[  0,   0,   0,   0,   0,   0],\n",
              "        [  0,   0,   0,   0,  13, 118],\n",
              "        [  0,   0,   0, 147, 212, 252],\n",
              "        [  0,  19, 112, 246, 253, 252],\n",
              "        [  0, 112, 252, 252, 253, 252],\n",
              "        [  0, 131, 252, 252, 190,  64]], dtype=torch.uint8)"
            ]
          },
          "metadata": {},
          "execution_count": 16
        }
      ]
    },
    {
      "cell_type": "code",
      "source": [
        "im3_t = tensor(im3)\n",
        "df = pd.DataFrame(im3_t[4:15,4:22])\n",
        "df.style.set_properties(**{'font-size':'6pt'}).background_gradient('Greys')\n",
        "#im3_t.shape"
      ],
      "metadata": {
        "colab": {
          "base_uri": "https://localhost:8080/",
          "height": 394
        },
        "id": "P-uFABD3qnoi",
        "outputId": "1d62c26a-f184-4e09-c6cf-dbd4ab2b62c2"
      },
      "execution_count": 31,
      "outputs": [
        {
          "output_type": "execute_result",
          "data": {
            "text/plain": [
              "<pandas.io.formats.style.Styler at 0x7fb197208210>"
            ],
            "text/html": [
              "<style type=\"text/css\">\n",
              "#T_ff884_row0_col0, #T_ff884_row0_col1, #T_ff884_row0_col2, #T_ff884_row0_col3, #T_ff884_row0_col4, #T_ff884_row0_col5, #T_ff884_row0_col6, #T_ff884_row0_col7, #T_ff884_row0_col8, #T_ff884_row0_col9, #T_ff884_row0_col10, #T_ff884_row0_col11, #T_ff884_row0_col12, #T_ff884_row0_col13, #T_ff884_row0_col14, #T_ff884_row0_col15, #T_ff884_row0_col16, #T_ff884_row0_col17, #T_ff884_row1_col0, #T_ff884_row1_col1, #T_ff884_row1_col2, #T_ff884_row1_col3, #T_ff884_row1_col4, #T_ff884_row1_col15, #T_ff884_row1_col16, #T_ff884_row1_col17, #T_ff884_row2_col0, #T_ff884_row2_col1, #T_ff884_row2_col2, #T_ff884_row2_col15, #T_ff884_row2_col16, #T_ff884_row2_col17, #T_ff884_row3_col0, #T_ff884_row3_col15, #T_ff884_row3_col16, #T_ff884_row3_col17, #T_ff884_row4_col0, #T_ff884_row4_col6, #T_ff884_row4_col7, #T_ff884_row4_col8, #T_ff884_row4_col9, #T_ff884_row4_col10, #T_ff884_row4_col15, #T_ff884_row4_col16, #T_ff884_row4_col17, #T_ff884_row5_col0, #T_ff884_row5_col5, #T_ff884_row5_col6, #T_ff884_row5_col7, #T_ff884_row5_col8, #T_ff884_row5_col9, #T_ff884_row5_col15, #T_ff884_row5_col16, #T_ff884_row5_col17, #T_ff884_row6_col0, #T_ff884_row6_col1, #T_ff884_row6_col2, #T_ff884_row6_col3, #T_ff884_row6_col4, #T_ff884_row6_col5, #T_ff884_row6_col6, #T_ff884_row6_col7, #T_ff884_row6_col8, #T_ff884_row6_col9, #T_ff884_row6_col14, #T_ff884_row6_col15, #T_ff884_row6_col16, #T_ff884_row6_col17, #T_ff884_row7_col0, #T_ff884_row7_col1, #T_ff884_row7_col2, #T_ff884_row7_col3, #T_ff884_row7_col4, #T_ff884_row7_col5, #T_ff884_row7_col6, #T_ff884_row7_col13, #T_ff884_row7_col14, #T_ff884_row7_col15, #T_ff884_row7_col16, #T_ff884_row7_col17, #T_ff884_row8_col0, #T_ff884_row8_col1, #T_ff884_row8_col2, #T_ff884_row8_col3, #T_ff884_row8_col4, #T_ff884_row8_col13, #T_ff884_row8_col14, #T_ff884_row8_col15, #T_ff884_row8_col16, #T_ff884_row8_col17, #T_ff884_row9_col0, #T_ff884_row9_col1, #T_ff884_row9_col2, #T_ff884_row9_col3, #T_ff884_row9_col4, #T_ff884_row9_col16, #T_ff884_row9_col17, #T_ff884_row10_col0, #T_ff884_row10_col1, #T_ff884_row10_col2, #T_ff884_row10_col3, #T_ff884_row10_col4, #T_ff884_row10_col5, #T_ff884_row10_col6, #T_ff884_row10_col17 {\n",
              "  font-size: 6pt;\n",
              "  background-color: #ffffff;\n",
              "  color: #000000;\n",
              "}\n",
              "#T_ff884_row1_col5 {\n",
              "  font-size: 6pt;\n",
              "  background-color: #efefef;\n",
              "  color: #000000;\n",
              "}\n",
              "#T_ff884_row1_col6, #T_ff884_row1_col13 {\n",
              "  font-size: 6pt;\n",
              "  background-color: #7c7c7c;\n",
              "  color: #f1f1f1;\n",
              "}\n",
              "#T_ff884_row1_col7 {\n",
              "  font-size: 6pt;\n",
              "  background-color: #4a4a4a;\n",
              "  color: #f1f1f1;\n",
              "}\n",
              "#T_ff884_row1_col8, #T_ff884_row1_col9, #T_ff884_row1_col10, #T_ff884_row2_col5, #T_ff884_row2_col6, #T_ff884_row2_col7, #T_ff884_row2_col11, #T_ff884_row2_col12, #T_ff884_row2_col13, #T_ff884_row3_col4, #T_ff884_row3_col12, #T_ff884_row3_col13, #T_ff884_row4_col1, #T_ff884_row4_col2, #T_ff884_row4_col3, #T_ff884_row4_col12, #T_ff884_row4_col13, #T_ff884_row5_col12, #T_ff884_row6_col11, #T_ff884_row9_col11, #T_ff884_row10_col11, #T_ff884_row10_col12, #T_ff884_row10_col13, #T_ff884_row10_col14, #T_ff884_row10_col15, #T_ff884_row10_col16 {\n",
              "  font-size: 6pt;\n",
              "  background-color: #000000;\n",
              "  color: #f1f1f1;\n",
              "}\n",
              "#T_ff884_row1_col11 {\n",
              "  font-size: 6pt;\n",
              "  background-color: #606060;\n",
              "  color: #f1f1f1;\n",
              "}\n",
              "#T_ff884_row1_col12 {\n",
              "  font-size: 6pt;\n",
              "  background-color: #4d4d4d;\n",
              "  color: #f1f1f1;\n",
              "}\n",
              "#T_ff884_row1_col14 {\n",
              "  font-size: 6pt;\n",
              "  background-color: #bbbbbb;\n",
              "  color: #000000;\n",
              "}\n",
              "#T_ff884_row2_col3 {\n",
              "  font-size: 6pt;\n",
              "  background-color: #e4e4e4;\n",
              "  color: #000000;\n",
              "}\n",
              "#T_ff884_row2_col4, #T_ff884_row8_col6 {\n",
              "  font-size: 6pt;\n",
              "  background-color: #6b6b6b;\n",
              "  color: #f1f1f1;\n",
              "}\n",
              "#T_ff884_row2_col8, #T_ff884_row2_col14, #T_ff884_row3_col14 {\n",
              "  font-size: 6pt;\n",
              "  background-color: #171717;\n",
              "  color: #f1f1f1;\n",
              "}\n",
              "#T_ff884_row2_col9, #T_ff884_row3_col11 {\n",
              "  font-size: 6pt;\n",
              "  background-color: #4b4b4b;\n",
              "  color: #f1f1f1;\n",
              "}\n",
              "#T_ff884_row2_col10, #T_ff884_row7_col10, #T_ff884_row8_col8, #T_ff884_row8_col10, #T_ff884_row9_col8, #T_ff884_row9_col10 {\n",
              "  font-size: 6pt;\n",
              "  background-color: #010101;\n",
              "  color: #f1f1f1;\n",
              "}\n",
              "#T_ff884_row3_col1 {\n",
              "  font-size: 6pt;\n",
              "  background-color: #272727;\n",
              "  color: #f1f1f1;\n",
              "}\n",
              "#T_ff884_row3_col2 {\n",
              "  font-size: 6pt;\n",
              "  background-color: #0a0a0a;\n",
              "  color: #f1f1f1;\n",
              "}\n",
              "#T_ff884_row3_col3 {\n",
              "  font-size: 6pt;\n",
              "  background-color: #050505;\n",
              "  color: #f1f1f1;\n",
              "}\n",
              "#T_ff884_row3_col5 {\n",
              "  font-size: 6pt;\n",
              "  background-color: #333333;\n",
              "  color: #f1f1f1;\n",
              "}\n",
              "#T_ff884_row3_col6 {\n",
              "  font-size: 6pt;\n",
              "  background-color: #e6e6e6;\n",
              "  color: #000000;\n",
              "}\n",
              "#T_ff884_row3_col7, #T_ff884_row3_col10 {\n",
              "  font-size: 6pt;\n",
              "  background-color: #fafafa;\n",
              "  color: #000000;\n",
              "}\n",
              "#T_ff884_row3_col8 {\n",
              "  font-size: 6pt;\n",
              "  background-color: #fbfbfb;\n",
              "  color: #000000;\n",
              "}\n",
              "#T_ff884_row3_col9 {\n",
              "  font-size: 6pt;\n",
              "  background-color: #fdfdfd;\n",
              "  color: #000000;\n",
              "}\n",
              "#T_ff884_row4_col4 {\n",
              "  font-size: 6pt;\n",
              "  background-color: #1b1b1b;\n",
              "  color: #f1f1f1;\n",
              "}\n",
              "#T_ff884_row4_col5 {\n",
              "  font-size: 6pt;\n",
              "  background-color: #e0e0e0;\n",
              "  color: #000000;\n",
              "}\n",
              "#T_ff884_row4_col11 {\n",
              "  font-size: 6pt;\n",
              "  background-color: #4e4e4e;\n",
              "  color: #f1f1f1;\n",
              "}\n",
              "#T_ff884_row4_col14 {\n",
              "  font-size: 6pt;\n",
              "  background-color: #767676;\n",
              "  color: #f1f1f1;\n",
              "}\n",
              "#T_ff884_row5_col1 {\n",
              "  font-size: 6pt;\n",
              "  background-color: #fcfcfc;\n",
              "  color: #000000;\n",
              "}\n",
              "#T_ff884_row5_col2, #T_ff884_row5_col3 {\n",
              "  font-size: 6pt;\n",
              "  background-color: #f6f6f6;\n",
              "  color: #000000;\n",
              "}\n",
              "#T_ff884_row5_col4, #T_ff884_row7_col7 {\n",
              "  font-size: 6pt;\n",
              "  background-color: #f8f8f8;\n",
              "  color: #000000;\n",
              "}\n",
              "#T_ff884_row5_col10, #T_ff884_row10_col7 {\n",
              "  font-size: 6pt;\n",
              "  background-color: #e8e8e8;\n",
              "  color: #000000;\n",
              "}\n",
              "#T_ff884_row5_col11 {\n",
              "  font-size: 6pt;\n",
              "  background-color: #222222;\n",
              "  color: #f1f1f1;\n",
              "}\n",
              "#T_ff884_row5_col13, #T_ff884_row6_col12 {\n",
              "  font-size: 6pt;\n",
              "  background-color: #090909;\n",
              "  color: #f1f1f1;\n",
              "}\n",
              "#T_ff884_row5_col14 {\n",
              "  font-size: 6pt;\n",
              "  background-color: #d0d0d0;\n",
              "  color: #000000;\n",
              "}\n",
              "#T_ff884_row6_col10, #T_ff884_row7_col11, #T_ff884_row9_col6 {\n",
              "  font-size: 6pt;\n",
              "  background-color: #060606;\n",
              "  color: #f1f1f1;\n",
              "}\n",
              "#T_ff884_row6_col13 {\n",
              "  font-size: 6pt;\n",
              "  background-color: #979797;\n",
              "  color: #f1f1f1;\n",
              "}\n",
              "#T_ff884_row7_col8 {\n",
              "  font-size: 6pt;\n",
              "  background-color: #b6b6b6;\n",
              "  color: #000000;\n",
              "}\n",
              "#T_ff884_row7_col9 {\n",
              "  font-size: 6pt;\n",
              "  background-color: #252525;\n",
              "  color: #f1f1f1;\n",
              "}\n",
              "#T_ff884_row7_col12 {\n",
              "  font-size: 6pt;\n",
              "  background-color: #999999;\n",
              "  color: #f1f1f1;\n",
              "}\n",
              "#T_ff884_row8_col5 {\n",
              "  font-size: 6pt;\n",
              "  background-color: #f9f9f9;\n",
              "  color: #000000;\n",
              "}\n",
              "#T_ff884_row8_col7 {\n",
              "  font-size: 6pt;\n",
              "  background-color: #101010;\n",
              "  color: #f1f1f1;\n",
              "}\n",
              "#T_ff884_row8_col9, #T_ff884_row9_col9 {\n",
              "  font-size: 6pt;\n",
              "  background-color: #020202;\n",
              "  color: #f1f1f1;\n",
              "}\n",
              "#T_ff884_row8_col11 {\n",
              "  font-size: 6pt;\n",
              "  background-color: #545454;\n",
              "  color: #f1f1f1;\n",
              "}\n",
              "#T_ff884_row8_col12 {\n",
              "  font-size: 6pt;\n",
              "  background-color: #f1f1f1;\n",
              "  color: #000000;\n",
              "}\n",
              "#T_ff884_row9_col5 {\n",
              "  font-size: 6pt;\n",
              "  background-color: #f7f7f7;\n",
              "  color: #000000;\n",
              "}\n",
              "#T_ff884_row9_col7 {\n",
              "  font-size: 6pt;\n",
              "  background-color: #030303;\n",
              "  color: #f1f1f1;\n",
              "}\n",
              "#T_ff884_row9_col12 {\n",
              "  font-size: 6pt;\n",
              "  background-color: #181818;\n",
              "  color: #f1f1f1;\n",
              "}\n",
              "#T_ff884_row9_col13 {\n",
              "  font-size: 6pt;\n",
              "  background-color: #303030;\n",
              "  color: #f1f1f1;\n",
              "}\n",
              "#T_ff884_row9_col14 {\n",
              "  font-size: 6pt;\n",
              "  background-color: #a9a9a9;\n",
              "  color: #f1f1f1;\n",
              "}\n",
              "#T_ff884_row9_col15 {\n",
              "  font-size: 6pt;\n",
              "  background-color: #fefefe;\n",
              "  color: #000000;\n",
              "}\n",
              "#T_ff884_row10_col8, #T_ff884_row10_col9 {\n",
              "  font-size: 6pt;\n",
              "  background-color: #bababa;\n",
              "  color: #000000;\n",
              "}\n",
              "#T_ff884_row10_col10 {\n",
              "  font-size: 6pt;\n",
              "  background-color: #393939;\n",
              "  color: #f1f1f1;\n",
              "}\n",
              "</style>\n",
              "<table id=\"T_ff884_\" class=\"dataframe\">\n",
              "  <thead>\n",
              "    <tr>\n",
              "      <th class=\"blank level0\" >&nbsp;</th>\n",
              "      <th class=\"col_heading level0 col0\" >0</th>\n",
              "      <th class=\"col_heading level0 col1\" >1</th>\n",
              "      <th class=\"col_heading level0 col2\" >2</th>\n",
              "      <th class=\"col_heading level0 col3\" >3</th>\n",
              "      <th class=\"col_heading level0 col4\" >4</th>\n",
              "      <th class=\"col_heading level0 col5\" >5</th>\n",
              "      <th class=\"col_heading level0 col6\" >6</th>\n",
              "      <th class=\"col_heading level0 col7\" >7</th>\n",
              "      <th class=\"col_heading level0 col8\" >8</th>\n",
              "      <th class=\"col_heading level0 col9\" >9</th>\n",
              "      <th class=\"col_heading level0 col10\" >10</th>\n",
              "      <th class=\"col_heading level0 col11\" >11</th>\n",
              "      <th class=\"col_heading level0 col12\" >12</th>\n",
              "      <th class=\"col_heading level0 col13\" >13</th>\n",
              "      <th class=\"col_heading level0 col14\" >14</th>\n",
              "      <th class=\"col_heading level0 col15\" >15</th>\n",
              "      <th class=\"col_heading level0 col16\" >16</th>\n",
              "      <th class=\"col_heading level0 col17\" >17</th>\n",
              "    </tr>\n",
              "  </thead>\n",
              "  <tbody>\n",
              "    <tr>\n",
              "      <th id=\"T_ff884_level0_row0\" class=\"row_heading level0 row0\" >0</th>\n",
              "      <td id=\"T_ff884_row0_col0\" class=\"data row0 col0\" >0</td>\n",
              "      <td id=\"T_ff884_row0_col1\" class=\"data row0 col1\" >0</td>\n",
              "      <td id=\"T_ff884_row0_col2\" class=\"data row0 col2\" >0</td>\n",
              "      <td id=\"T_ff884_row0_col3\" class=\"data row0 col3\" >0</td>\n",
              "      <td id=\"T_ff884_row0_col4\" class=\"data row0 col4\" >0</td>\n",
              "      <td id=\"T_ff884_row0_col5\" class=\"data row0 col5\" >0</td>\n",
              "      <td id=\"T_ff884_row0_col6\" class=\"data row0 col6\" >0</td>\n",
              "      <td id=\"T_ff884_row0_col7\" class=\"data row0 col7\" >0</td>\n",
              "      <td id=\"T_ff884_row0_col8\" class=\"data row0 col8\" >0</td>\n",
              "      <td id=\"T_ff884_row0_col9\" class=\"data row0 col9\" >0</td>\n",
              "      <td id=\"T_ff884_row0_col10\" class=\"data row0 col10\" >0</td>\n",
              "      <td id=\"T_ff884_row0_col11\" class=\"data row0 col11\" >0</td>\n",
              "      <td id=\"T_ff884_row0_col12\" class=\"data row0 col12\" >0</td>\n",
              "      <td id=\"T_ff884_row0_col13\" class=\"data row0 col13\" >0</td>\n",
              "      <td id=\"T_ff884_row0_col14\" class=\"data row0 col14\" >0</td>\n",
              "      <td id=\"T_ff884_row0_col15\" class=\"data row0 col15\" >0</td>\n",
              "      <td id=\"T_ff884_row0_col16\" class=\"data row0 col16\" >0</td>\n",
              "      <td id=\"T_ff884_row0_col17\" class=\"data row0 col17\" >0</td>\n",
              "    </tr>\n",
              "    <tr>\n",
              "      <th id=\"T_ff884_level0_row1\" class=\"row_heading level0 row1\" >1</th>\n",
              "      <td id=\"T_ff884_row1_col0\" class=\"data row1 col0\" >0</td>\n",
              "      <td id=\"T_ff884_row1_col1\" class=\"data row1 col1\" >0</td>\n",
              "      <td id=\"T_ff884_row1_col2\" class=\"data row1 col2\" >0</td>\n",
              "      <td id=\"T_ff884_row1_col3\" class=\"data row1 col3\" >0</td>\n",
              "      <td id=\"T_ff884_row1_col4\" class=\"data row1 col4\" >0</td>\n",
              "      <td id=\"T_ff884_row1_col5\" class=\"data row1 col5\" >29</td>\n",
              "      <td id=\"T_ff884_row1_col6\" class=\"data row1 col6\" >150</td>\n",
              "      <td id=\"T_ff884_row1_col7\" class=\"data row1 col7\" >195</td>\n",
              "      <td id=\"T_ff884_row1_col8\" class=\"data row1 col8\" >254</td>\n",
              "      <td id=\"T_ff884_row1_col9\" class=\"data row1 col9\" >255</td>\n",
              "      <td id=\"T_ff884_row1_col10\" class=\"data row1 col10\" >254</td>\n",
              "      <td id=\"T_ff884_row1_col11\" class=\"data row1 col11\" >176</td>\n",
              "      <td id=\"T_ff884_row1_col12\" class=\"data row1 col12\" >193</td>\n",
              "      <td id=\"T_ff884_row1_col13\" class=\"data row1 col13\" >150</td>\n",
              "      <td id=\"T_ff884_row1_col14\" class=\"data row1 col14\" >96</td>\n",
              "      <td id=\"T_ff884_row1_col15\" class=\"data row1 col15\" >0</td>\n",
              "      <td id=\"T_ff884_row1_col16\" class=\"data row1 col16\" >0</td>\n",
              "      <td id=\"T_ff884_row1_col17\" class=\"data row1 col17\" >0</td>\n",
              "    </tr>\n",
              "    <tr>\n",
              "      <th id=\"T_ff884_level0_row2\" class=\"row_heading level0 row2\" >2</th>\n",
              "      <td id=\"T_ff884_row2_col0\" class=\"data row2 col0\" >0</td>\n",
              "      <td id=\"T_ff884_row2_col1\" class=\"data row2 col1\" >0</td>\n",
              "      <td id=\"T_ff884_row2_col2\" class=\"data row2 col2\" >0</td>\n",
              "      <td id=\"T_ff884_row2_col3\" class=\"data row2 col3\" >48</td>\n",
              "      <td id=\"T_ff884_row2_col4\" class=\"data row2 col4\" >166</td>\n",
              "      <td id=\"T_ff884_row2_col5\" class=\"data row2 col5\" >224</td>\n",
              "      <td id=\"T_ff884_row2_col6\" class=\"data row2 col6\" >253</td>\n",
              "      <td id=\"T_ff884_row2_col7\" class=\"data row2 col7\" >253</td>\n",
              "      <td id=\"T_ff884_row2_col8\" class=\"data row2 col8\" >234</td>\n",
              "      <td id=\"T_ff884_row2_col9\" class=\"data row2 col9\" >196</td>\n",
              "      <td id=\"T_ff884_row2_col10\" class=\"data row2 col10\" >253</td>\n",
              "      <td id=\"T_ff884_row2_col11\" class=\"data row2 col11\" >253</td>\n",
              "      <td id=\"T_ff884_row2_col12\" class=\"data row2 col12\" >253</td>\n",
              "      <td id=\"T_ff884_row2_col13\" class=\"data row2 col13\" >253</td>\n",
              "      <td id=\"T_ff884_row2_col14\" class=\"data row2 col14\" >233</td>\n",
              "      <td id=\"T_ff884_row2_col15\" class=\"data row2 col15\" >0</td>\n",
              "      <td id=\"T_ff884_row2_col16\" class=\"data row2 col16\" >0</td>\n",
              "      <td id=\"T_ff884_row2_col17\" class=\"data row2 col17\" >0</td>\n",
              "    </tr>\n",
              "    <tr>\n",
              "      <th id=\"T_ff884_level0_row3\" class=\"row_heading level0 row3\" >3</th>\n",
              "      <td id=\"T_ff884_row3_col0\" class=\"data row3 col0\" >0</td>\n",
              "      <td id=\"T_ff884_row3_col1\" class=\"data row3 col1\" >93</td>\n",
              "      <td id=\"T_ff884_row3_col2\" class=\"data row3 col2\" >244</td>\n",
              "      <td id=\"T_ff884_row3_col3\" class=\"data row3 col3\" >249</td>\n",
              "      <td id=\"T_ff884_row3_col4\" class=\"data row3 col4\" >253</td>\n",
              "      <td id=\"T_ff884_row3_col5\" class=\"data row3 col5\" >187</td>\n",
              "      <td id=\"T_ff884_row3_col6\" class=\"data row3 col6\" >46</td>\n",
              "      <td id=\"T_ff884_row3_col7\" class=\"data row3 col7\" >10</td>\n",
              "      <td id=\"T_ff884_row3_col8\" class=\"data row3 col8\" >8</td>\n",
              "      <td id=\"T_ff884_row3_col9\" class=\"data row3 col9\" >4</td>\n",
              "      <td id=\"T_ff884_row3_col10\" class=\"data row3 col10\" >10</td>\n",
              "      <td id=\"T_ff884_row3_col11\" class=\"data row3 col11\" >194</td>\n",
              "      <td id=\"T_ff884_row3_col12\" class=\"data row3 col12\" >253</td>\n",
              "      <td id=\"T_ff884_row3_col13\" class=\"data row3 col13\" >253</td>\n",
              "      <td id=\"T_ff884_row3_col14\" class=\"data row3 col14\" >233</td>\n",
              "      <td id=\"T_ff884_row3_col15\" class=\"data row3 col15\" >0</td>\n",
              "      <td id=\"T_ff884_row3_col16\" class=\"data row3 col16\" >0</td>\n",
              "      <td id=\"T_ff884_row3_col17\" class=\"data row3 col17\" >0</td>\n",
              "    </tr>\n",
              "    <tr>\n",
              "      <th id=\"T_ff884_level0_row4\" class=\"row_heading level0 row4\" >4</th>\n",
              "      <td id=\"T_ff884_row4_col0\" class=\"data row4 col0\" >0</td>\n",
              "      <td id=\"T_ff884_row4_col1\" class=\"data row4 col1\" >107</td>\n",
              "      <td id=\"T_ff884_row4_col2\" class=\"data row4 col2\" >253</td>\n",
              "      <td id=\"T_ff884_row4_col3\" class=\"data row4 col3\" >253</td>\n",
              "      <td id=\"T_ff884_row4_col4\" class=\"data row4 col4\" >230</td>\n",
              "      <td id=\"T_ff884_row4_col5\" class=\"data row4 col5\" >48</td>\n",
              "      <td id=\"T_ff884_row4_col6\" class=\"data row4 col6\" >0</td>\n",
              "      <td id=\"T_ff884_row4_col7\" class=\"data row4 col7\" >0</td>\n",
              "      <td id=\"T_ff884_row4_col8\" class=\"data row4 col8\" >0</td>\n",
              "      <td id=\"T_ff884_row4_col9\" class=\"data row4 col9\" >0</td>\n",
              "      <td id=\"T_ff884_row4_col10\" class=\"data row4 col10\" >0</td>\n",
              "      <td id=\"T_ff884_row4_col11\" class=\"data row4 col11\" >192</td>\n",
              "      <td id=\"T_ff884_row4_col12\" class=\"data row4 col12\" >253</td>\n",
              "      <td id=\"T_ff884_row4_col13\" class=\"data row4 col13\" >253</td>\n",
              "      <td id=\"T_ff884_row4_col14\" class=\"data row4 col14\" >156</td>\n",
              "      <td id=\"T_ff884_row4_col15\" class=\"data row4 col15\" >0</td>\n",
              "      <td id=\"T_ff884_row4_col16\" class=\"data row4 col16\" >0</td>\n",
              "      <td id=\"T_ff884_row4_col17\" class=\"data row4 col17\" >0</td>\n",
              "    </tr>\n",
              "    <tr>\n",
              "      <th id=\"T_ff884_level0_row5\" class=\"row_heading level0 row5\" >5</th>\n",
              "      <td id=\"T_ff884_row5_col0\" class=\"data row5 col0\" >0</td>\n",
              "      <td id=\"T_ff884_row5_col1\" class=\"data row5 col1\" >3</td>\n",
              "      <td id=\"T_ff884_row5_col2\" class=\"data row5 col2\" >20</td>\n",
              "      <td id=\"T_ff884_row5_col3\" class=\"data row5 col3\" >20</td>\n",
              "      <td id=\"T_ff884_row5_col4\" class=\"data row5 col4\" >15</td>\n",
              "      <td id=\"T_ff884_row5_col5\" class=\"data row5 col5\" >0</td>\n",
              "      <td id=\"T_ff884_row5_col6\" class=\"data row5 col6\" >0</td>\n",
              "      <td id=\"T_ff884_row5_col7\" class=\"data row5 col7\" >0</td>\n",
              "      <td id=\"T_ff884_row5_col8\" class=\"data row5 col8\" >0</td>\n",
              "      <td id=\"T_ff884_row5_col9\" class=\"data row5 col9\" >0</td>\n",
              "      <td id=\"T_ff884_row5_col10\" class=\"data row5 col10\" >43</td>\n",
              "      <td id=\"T_ff884_row5_col11\" class=\"data row5 col11\" >224</td>\n",
              "      <td id=\"T_ff884_row5_col12\" class=\"data row5 col12\" >253</td>\n",
              "      <td id=\"T_ff884_row5_col13\" class=\"data row5 col13\" >245</td>\n",
              "      <td id=\"T_ff884_row5_col14\" class=\"data row5 col14\" >74</td>\n",
              "      <td id=\"T_ff884_row5_col15\" class=\"data row5 col15\" >0</td>\n",
              "      <td id=\"T_ff884_row5_col16\" class=\"data row5 col16\" >0</td>\n",
              "      <td id=\"T_ff884_row5_col17\" class=\"data row5 col17\" >0</td>\n",
              "    </tr>\n",
              "    <tr>\n",
              "      <th id=\"T_ff884_level0_row6\" class=\"row_heading level0 row6\" >6</th>\n",
              "      <td id=\"T_ff884_row6_col0\" class=\"data row6 col0\" >0</td>\n",
              "      <td id=\"T_ff884_row6_col1\" class=\"data row6 col1\" >0</td>\n",
              "      <td id=\"T_ff884_row6_col2\" class=\"data row6 col2\" >0</td>\n",
              "      <td id=\"T_ff884_row6_col3\" class=\"data row6 col3\" >0</td>\n",
              "      <td id=\"T_ff884_row6_col4\" class=\"data row6 col4\" >0</td>\n",
              "      <td id=\"T_ff884_row6_col5\" class=\"data row6 col5\" >0</td>\n",
              "      <td id=\"T_ff884_row6_col6\" class=\"data row6 col6\" >0</td>\n",
              "      <td id=\"T_ff884_row6_col7\" class=\"data row6 col7\" >0</td>\n",
              "      <td id=\"T_ff884_row6_col8\" class=\"data row6 col8\" >0</td>\n",
              "      <td id=\"T_ff884_row6_col9\" class=\"data row6 col9\" >0</td>\n",
              "      <td id=\"T_ff884_row6_col10\" class=\"data row6 col10\" >249</td>\n",
              "      <td id=\"T_ff884_row6_col11\" class=\"data row6 col11\" >253</td>\n",
              "      <td id=\"T_ff884_row6_col12\" class=\"data row6 col12\" >245</td>\n",
              "      <td id=\"T_ff884_row6_col13\" class=\"data row6 col13\" >126</td>\n",
              "      <td id=\"T_ff884_row6_col14\" class=\"data row6 col14\" >0</td>\n",
              "      <td id=\"T_ff884_row6_col15\" class=\"data row6 col15\" >0</td>\n",
              "      <td id=\"T_ff884_row6_col16\" class=\"data row6 col16\" >0</td>\n",
              "      <td id=\"T_ff884_row6_col17\" class=\"data row6 col17\" >0</td>\n",
              "    </tr>\n",
              "    <tr>\n",
              "      <th id=\"T_ff884_level0_row7\" class=\"row_heading level0 row7\" >7</th>\n",
              "      <td id=\"T_ff884_row7_col0\" class=\"data row7 col0\" >0</td>\n",
              "      <td id=\"T_ff884_row7_col1\" class=\"data row7 col1\" >0</td>\n",
              "      <td id=\"T_ff884_row7_col2\" class=\"data row7 col2\" >0</td>\n",
              "      <td id=\"T_ff884_row7_col3\" class=\"data row7 col3\" >0</td>\n",
              "      <td id=\"T_ff884_row7_col4\" class=\"data row7 col4\" >0</td>\n",
              "      <td id=\"T_ff884_row7_col5\" class=\"data row7 col5\" >0</td>\n",
              "      <td id=\"T_ff884_row7_col6\" class=\"data row7 col6\" >0</td>\n",
              "      <td id=\"T_ff884_row7_col7\" class=\"data row7 col7\" >14</td>\n",
              "      <td id=\"T_ff884_row7_col8\" class=\"data row7 col8\" >101</td>\n",
              "      <td id=\"T_ff884_row7_col9\" class=\"data row7 col9\" >223</td>\n",
              "      <td id=\"T_ff884_row7_col10\" class=\"data row7 col10\" >253</td>\n",
              "      <td id=\"T_ff884_row7_col11\" class=\"data row7 col11\" >248</td>\n",
              "      <td id=\"T_ff884_row7_col12\" class=\"data row7 col12\" >124</td>\n",
              "      <td id=\"T_ff884_row7_col13\" class=\"data row7 col13\" >0</td>\n",
              "      <td id=\"T_ff884_row7_col14\" class=\"data row7 col14\" >0</td>\n",
              "      <td id=\"T_ff884_row7_col15\" class=\"data row7 col15\" >0</td>\n",
              "      <td id=\"T_ff884_row7_col16\" class=\"data row7 col16\" >0</td>\n",
              "      <td id=\"T_ff884_row7_col17\" class=\"data row7 col17\" >0</td>\n",
              "    </tr>\n",
              "    <tr>\n",
              "      <th id=\"T_ff884_level0_row8\" class=\"row_heading level0 row8\" >8</th>\n",
              "      <td id=\"T_ff884_row8_col0\" class=\"data row8 col0\" >0</td>\n",
              "      <td id=\"T_ff884_row8_col1\" class=\"data row8 col1\" >0</td>\n",
              "      <td id=\"T_ff884_row8_col2\" class=\"data row8 col2\" >0</td>\n",
              "      <td id=\"T_ff884_row8_col3\" class=\"data row8 col3\" >0</td>\n",
              "      <td id=\"T_ff884_row8_col4\" class=\"data row8 col4\" >0</td>\n",
              "      <td id=\"T_ff884_row8_col5\" class=\"data row8 col5\" >11</td>\n",
              "      <td id=\"T_ff884_row8_col6\" class=\"data row8 col6\" >166</td>\n",
              "      <td id=\"T_ff884_row8_col7\" class=\"data row8 col7\" >239</td>\n",
              "      <td id=\"T_ff884_row8_col8\" class=\"data row8 col8\" >253</td>\n",
              "      <td id=\"T_ff884_row8_col9\" class=\"data row8 col9\" >253</td>\n",
              "      <td id=\"T_ff884_row8_col10\" class=\"data row8 col10\" >253</td>\n",
              "      <td id=\"T_ff884_row8_col11\" class=\"data row8 col11\" >187</td>\n",
              "      <td id=\"T_ff884_row8_col12\" class=\"data row8 col12\" >30</td>\n",
              "      <td id=\"T_ff884_row8_col13\" class=\"data row8 col13\" >0</td>\n",
              "      <td id=\"T_ff884_row8_col14\" class=\"data row8 col14\" >0</td>\n",
              "      <td id=\"T_ff884_row8_col15\" class=\"data row8 col15\" >0</td>\n",
              "      <td id=\"T_ff884_row8_col16\" class=\"data row8 col16\" >0</td>\n",
              "      <td id=\"T_ff884_row8_col17\" class=\"data row8 col17\" >0</td>\n",
              "    </tr>\n",
              "    <tr>\n",
              "      <th id=\"T_ff884_level0_row9\" class=\"row_heading level0 row9\" >9</th>\n",
              "      <td id=\"T_ff884_row9_col0\" class=\"data row9 col0\" >0</td>\n",
              "      <td id=\"T_ff884_row9_col1\" class=\"data row9 col1\" >0</td>\n",
              "      <td id=\"T_ff884_row9_col2\" class=\"data row9 col2\" >0</td>\n",
              "      <td id=\"T_ff884_row9_col3\" class=\"data row9 col3\" >0</td>\n",
              "      <td id=\"T_ff884_row9_col4\" class=\"data row9 col4\" >0</td>\n",
              "      <td id=\"T_ff884_row9_col5\" class=\"data row9 col5\" >16</td>\n",
              "      <td id=\"T_ff884_row9_col6\" class=\"data row9 col6\" >248</td>\n",
              "      <td id=\"T_ff884_row9_col7\" class=\"data row9 col7\" >250</td>\n",
              "      <td id=\"T_ff884_row9_col8\" class=\"data row9 col8\" >253</td>\n",
              "      <td id=\"T_ff884_row9_col9\" class=\"data row9 col9\" >253</td>\n",
              "      <td id=\"T_ff884_row9_col10\" class=\"data row9 col10\" >253</td>\n",
              "      <td id=\"T_ff884_row9_col11\" class=\"data row9 col11\" >253</td>\n",
              "      <td id=\"T_ff884_row9_col12\" class=\"data row9 col12\" >232</td>\n",
              "      <td id=\"T_ff884_row9_col13\" class=\"data row9 col13\" >213</td>\n",
              "      <td id=\"T_ff884_row9_col14\" class=\"data row9 col14\" >111</td>\n",
              "      <td id=\"T_ff884_row9_col15\" class=\"data row9 col15\" >2</td>\n",
              "      <td id=\"T_ff884_row9_col16\" class=\"data row9 col16\" >0</td>\n",
              "      <td id=\"T_ff884_row9_col17\" class=\"data row9 col17\" >0</td>\n",
              "    </tr>\n",
              "    <tr>\n",
              "      <th id=\"T_ff884_level0_row10\" class=\"row_heading level0 row10\" >10</th>\n",
              "      <td id=\"T_ff884_row10_col0\" class=\"data row10 col0\" >0</td>\n",
              "      <td id=\"T_ff884_row10_col1\" class=\"data row10 col1\" >0</td>\n",
              "      <td id=\"T_ff884_row10_col2\" class=\"data row10 col2\" >0</td>\n",
              "      <td id=\"T_ff884_row10_col3\" class=\"data row10 col3\" >0</td>\n",
              "      <td id=\"T_ff884_row10_col4\" class=\"data row10 col4\" >0</td>\n",
              "      <td id=\"T_ff884_row10_col5\" class=\"data row10 col5\" >0</td>\n",
              "      <td id=\"T_ff884_row10_col6\" class=\"data row10 col6\" >0</td>\n",
              "      <td id=\"T_ff884_row10_col7\" class=\"data row10 col7\" >43</td>\n",
              "      <td id=\"T_ff884_row10_col8\" class=\"data row10 col8\" >98</td>\n",
              "      <td id=\"T_ff884_row10_col9\" class=\"data row10 col9\" >98</td>\n",
              "      <td id=\"T_ff884_row10_col10\" class=\"data row10 col10\" >208</td>\n",
              "      <td id=\"T_ff884_row10_col11\" class=\"data row10 col11\" >253</td>\n",
              "      <td id=\"T_ff884_row10_col12\" class=\"data row10 col12\" >253</td>\n",
              "      <td id=\"T_ff884_row10_col13\" class=\"data row10 col13\" >253</td>\n",
              "      <td id=\"T_ff884_row10_col14\" class=\"data row10 col14\" >253</td>\n",
              "      <td id=\"T_ff884_row10_col15\" class=\"data row10 col15\" >187</td>\n",
              "      <td id=\"T_ff884_row10_col16\" class=\"data row10 col16\" >22</td>\n",
              "      <td id=\"T_ff884_row10_col17\" class=\"data row10 col17\" >0</td>\n",
              "    </tr>\n",
              "  </tbody>\n",
              "</table>\n"
            ]
          },
          "metadata": {},
          "execution_count": 31
        }
      ]
    },
    {
      "cell_type": "code",
      "source": [
        "seven_tensors = [tensor(Image.open(o)) for o in sevens]\n",
        "three_tensors = [tensor(Image.open(o)) for o in threes]\n",
        "len(three_tensors),len(seven_tensors)\n"
      ],
      "metadata": {
        "colab": {
          "base_uri": "https://localhost:8080/"
        },
        "id": "WBQOSTfTrUm8",
        "outputId": "407787d6-6efa-445e-8964-4d7845bd95c1"
      },
      "execution_count": 8,
      "outputs": [
        {
          "output_type": "execute_result",
          "data": {
            "text/plain": [
              "(6131, 6265)"
            ]
          },
          "metadata": {},
          "execution_count": 8
        }
      ]
    },
    {
      "cell_type": "code",
      "source": [
        "show_image(three_tensors[1])"
      ],
      "metadata": {
        "colab": {
          "base_uri": "https://localhost:8080/",
          "height": 102
        },
        "id": "1Qo5B6zIsV7O",
        "outputId": "ef65fa46-a0d9-4507-f242-f8b1b7c96a39"
      },
      "execution_count": 76,
      "outputs": [
        {
          "output_type": "execute_result",
          "data": {
            "text/plain": [
              "<matplotlib.axes._subplots.AxesSubplot at 0x7f1816261350>"
            ]
          },
          "metadata": {},
          "execution_count": 76
        },
        {
          "output_type": "display_data",
          "data": {
            "text/plain": [
              "<Figure size 72x72 with 1 Axes>"
            ],
            "image/png": "[encoded data removed]"
          },
          "metadata": {
            "needs_background": "light"
          }
        }
      ]
    },
    {
      "cell_type": "code",
      "source": [
        "stacked_sevens = torch.stack(seven_tensors).float()/255\n",
        "stacked_threes = torch.stack(three_tensors).float()/255\n",
        "stacked_threes.shape"
      ],
      "metadata": {
        "colab": {
          "base_uri": "https://localhost:8080/"
        },
        "id": "MraJrwE7slaL",
        "outputId": "218ccbf3-71ae-44ad-af69-9da0fd00d177"
      },
      "execution_count": 9,
      "outputs": [
        {
          "output_type": "execute_result",
          "data": {
            "text/plain": [
              "torch.Size([6131, 28, 28])"
            ]
          },
          "metadata": {},
          "execution_count": 9
        }
      ]
    },
    {
      "cell_type": "code",
      "source": [
        "len(stacked_threes.shape)"
      ],
      "metadata": {
        "colab": {
          "base_uri": "https://localhost:8080/"
        },
        "id": "ppjavie4t72q",
        "outputId": "b2b6efac-587b-4e85-d4fa-f226ac30d068"
      },
      "execution_count": 78,
      "outputs": [
        {
          "output_type": "execute_result",
          "data": {
            "text/plain": [
              "3"
            ]
          },
          "metadata": {},
          "execution_count": 78
        }
      ]
    },
    {
      "cell_type": "code",
      "source": [
        "stacked_threes.ndim"
      ],
      "metadata": {
        "colab": {
          "base_uri": "https://localhost:8080/"
        },
        "id": "okHqWuN1uEtx",
        "outputId": "2e1f17e7-b127-4b2c-c3d6-7d97f311654b"
      },
      "execution_count": 34,
      "outputs": [
        {
          "output_type": "execute_result",
          "data": {
            "text/plain": [
              "3"
            ]
          },
          "metadata": {},
          "execution_count": 34
        }
      ]
    },
    {
      "cell_type": "code",
      "source": [
        "#average over first axis (that is 6131 rows)\n",
        "mean3 = stacked_threes.mean(0)\n",
        "show_image(mean3);"
      ],
      "metadata": {
        "colab": {
          "base_uri": "https://localhost:8080/",
          "height": 85
        },
        "id": "3gmA8DdWuSLQ",
        "outputId": "5362ab2a-57c7-4cd7-df53-2c895a0fcad8"
      },
      "execution_count": 10,
      "outputs": [
        {
          "output_type": "display_data",
          "data": {
            "text/plain": [
              "<Figure size 72x72 with 1 Axes>"
            ],
            "image/png": "[encoded data removed]"
          },
          "metadata": {
            "needs_background": "light"
          }
        }
      ]
    },
    {
      "cell_type": "code",
      "source": [
        "mean7 = stacked_sevens.mean(0)\n",
        "show_image(mean7);"
      ],
      "metadata": {
        "colab": {
          "base_uri": "https://localhost:8080/",
          "height": 85
        },
        "id": "lhLtZmeluq3q",
        "outputId": "3a34ed7b-569f-464b-fa03-2049f6f5a3b0"
      },
      "execution_count": 11,
      "outputs": [
        {
          "output_type": "display_data",
          "data": {
            "text/plain": [
              "<Figure size 72x72 with 1 Axes>"
            ],
            "image/png": "[encoded data removed]"
          },
          "metadata": {
            "needs_background": "light"
          }
        }
      ]
    },
    {
      "cell_type": "code",
      "source": [
        "a_3 = stacked_threes[1]\n",
        "show_image(a_3);"
      ],
      "metadata": {
        "colab": {
          "base_uri": "https://localhost:8080/",
          "height": 85
        },
        "id": "fPpkihDkuyFl",
        "outputId": "841349a2-7d66-41b9-f7c9-f1d2bb226fd8"
      },
      "execution_count": 12,
      "outputs": [
        {
          "output_type": "display_data",
          "data": {
            "text/plain": [
              "<Figure size 72x72 with 1 Axes>"
            ],
            "image/png": "[encoded data removed]"
          },
          "metadata": {
            "needs_background": "light"
          }
        }
      ]
    },
    {
      "cell_type": "code",
      "source": [
        "dist_3_abs = (a_3 - mean3).abs().mean()\n",
        "dist_3_sqr = ((a_3 - mean3)**2).mean().sqrt()\n",
        "dist_3_abs,dist_3_sqr"
      ],
      "metadata": {
        "colab": {
          "base_uri": "https://localhost:8080/"
        },
        "id": "QcIDu_NYu988",
        "outputId": "a9e3a2ce-7c09-4599-b4b1-263604db8c11"
      },
      "execution_count": 13,
      "outputs": [
        {
          "output_type": "execute_result",
          "data": {
            "text/plain": [
              "(tensor(0.1114), tensor(0.2021))"
            ]
          },
          "metadata": {},
          "execution_count": 13
        }
      ]
    },
    {
      "cell_type": "code",
      "source": [
        "dist_7_abs = (a_3 - mean7).abs().mean()\n",
        "dist_7_sqr = ((a_3 - mean7)**2).mean().sqrt()\n",
        "dist_7_abs,dist_7_sqr"
      ],
      "metadata": {
        "colab": {
          "base_uri": "https://localhost:8080/"
        },
        "id": "KJVBe5DNvXgA",
        "outputId": "b7a28ccc-2e98-48a3-9677-515ca1af8bcd"
      },
      "execution_count": 14,
      "outputs": [
        {
          "output_type": "execute_result",
          "data": {
            "text/plain": [
              "(tensor(0.1586), tensor(0.3021))"
            ]
          },
          "metadata": {},
          "execution_count": 14
        }
      ]
    },
    {
      "cell_type": "code",
      "source": [
        "# Loss function in torch is imported as F in Fastai.  That is: torch.nn.functional\n",
        "F.l1_loss(a_3.float(),mean7), F.mse_loss(a_3,mean7).sqrt()"
      ],
      "metadata": {
        "colab": {
          "base_uri": "https://localhost:8080/"
        },
        "id": "H8lLjNr6vofN",
        "outputId": "7e3f1057-88e5-4b3b-932d-71bb2928df1b"
      },
      "execution_count": 15,
      "outputs": [
        {
          "output_type": "execute_result",
          "data": {
            "text/plain": [
              "(tensor(0.1586), tensor(0.3021))"
            ]
          },
          "metadata": {},
          "execution_count": 15
        }
      ]
    },
    {
      "cell_type": "code",
      "source": [
        "data = [[1,2,3],[4,5,6]]\n",
        "arr = array (data)\n",
        "tns = tensor(data)"
      ],
      "metadata": {
        "id": "a-WbtFPrwSyM"
      },
      "execution_count": 113,
      "outputs": []
    },
    {
      "cell_type": "code",
      "source": [
        "arr.reshape(3,2)"
      ],
      "metadata": {
        "colab": {
          "base_uri": "https://localhost:8080/"
        },
        "id": "w2AfQD92wZvW",
        "outputId": "8e2399ac-511c-4926-f4f7-977c47cad803"
      },
      "execution_count": 115,
      "outputs": [
        {
          "output_type": "execute_result",
          "data": {
            "text/plain": [
              "array([[1, 2],\n",
              "       [3, 4],\n",
              "       [5, 6]])"
            ]
          },
          "metadata": {},
          "execution_count": 115
        }
      ]
    },
    {
      "cell_type": "code",
      "source": [
        "tns.reshape(3,2)"
      ],
      "metadata": {
        "colab": {
          "base_uri": "https://localhost:8080/"
        },
        "id": "XaqXlDOVwdJw",
        "outputId": "b72da709-6ec7-4a41-83b7-0f23b40c5285"
      },
      "execution_count": 116,
      "outputs": [
        {
          "output_type": "execute_result",
          "data": {
            "text/plain": [
              "tensor([[1, 2],\n",
              "        [3, 4],\n",
              "        [5, 6]])"
            ]
          },
          "metadata": {},
          "execution_count": 116
        }
      ]
    },
    {
      "cell_type": "code",
      "source": [
        "tns[1]"
      ],
      "metadata": {
        "colab": {
          "base_uri": "https://localhost:8080/"
        },
        "id": "XAegS_ZRwsEn",
        "outputId": "6e353262-3658-42a3-c042-a429b1471ff7"
      },
      "execution_count": 44,
      "outputs": [
        {
          "output_type": "execute_result",
          "data": {
            "text/plain": [
              "tensor([4, 5, 6])"
            ]
          },
          "metadata": {},
          "execution_count": 44
        }
      ]
    },
    {
      "cell_type": "code",
      "source": [
        "tns*2"
      ],
      "metadata": {
        "colab": {
          "base_uri": "https://localhost:8080/"
        },
        "id": "HjhP22uhw9UU",
        "outputId": "46373302-d123-4e79-e1b3-91df36d48c6a"
      },
      "execution_count": 45,
      "outputs": [
        {
          "output_type": "execute_result",
          "data": {
            "text/plain": [
              "tensor([[ 2,  4,  6],\n",
              "        [ 8, 10, 12]])"
            ]
          },
          "metadata": {},
          "execution_count": 45
        }
      ]
    },
    {
      "cell_type": "code",
      "source": [
        "tns*tns"
      ],
      "metadata": {
        "colab": {
          "base_uri": "https://localhost:8080/"
        },
        "id": "pi0J0V1dxErV",
        "outputId": "cdfaffdc-b52e-49d9-b483-c5c34f690435"
      },
      "execution_count": 46,
      "outputs": [
        {
          "output_type": "execute_result",
          "data": {
            "text/plain": [
              "tensor([[ 1,  4,  9],\n",
              "        [16, 25, 36]])"
            ]
          },
          "metadata": {},
          "execution_count": 46
        }
      ]
    },
    {
      "cell_type": "code",
      "source": [
        "arr*arr"
      ],
      "metadata": {
        "colab": {
          "base_uri": "https://localhost:8080/"
        },
        "id": "KxOFai8txXNz",
        "outputId": "090299d1-5558-48c7-d28d-6d0e1eb56074"
      },
      "execution_count": 49,
      "outputs": [
        {
          "output_type": "execute_result",
          "data": {
            "text/plain": [
              "array([[ 1,  4,  9],\n",
              "       [16, 25, 36]])"
            ]
          },
          "metadata": {},
          "execution_count": 49
        }
      ]
    },
    {
      "cell_type": "code",
      "source": [
        "tns.type()"
      ],
      "metadata": {
        "colab": {
          "base_uri": "https://localhost:8080/",
          "height": 35
        },
        "id": "p7erg-MvxlNy",
        "outputId": "5ee77350-2d9b-427b-c5d8-97bbccc2f865"
      },
      "execution_count": 51,
      "outputs": [
        {
          "output_type": "execute_result",
          "data": {
            "text/plain": [
              "'torch.LongTensor'"
            ],
            "application/vnd.google.colaboratory.intrinsic+json": {
              "type": "string"
            }
          },
          "metadata": {},
          "execution_count": 51
        }
      ]
    },
    {
      "cell_type": "code",
      "source": [
        "valid_3_tens = torch.stack([tensor(Image.open(o)) \n",
        "                            for o in (path/'valid'/'3').ls()])\n",
        "valid_3_tens = valid_3_tens.float()/255\n",
        "valid_7_tens = torch.stack([tensor(Image.open(o)) \n",
        "                            for o in (path/'valid'/'7').ls()])\n",
        "valid_7_tens = valid_7_tens.float()/255\n",
        "valid_3_tens.shape,valid_7_tens.shape"
      ],
      "metadata": {
        "colab": {
          "base_uri": "https://localhost:8080/"
        },
        "id": "Hwj83sFi1Vou",
        "outputId": "33ec5f3c-98a2-4e82-a436-5b008516995f"
      },
      "execution_count": 16,
      "outputs": [
        {
          "output_type": "execute_result",
          "data": {
            "text/plain": [
              "(torch.Size([1010, 28, 28]), torch.Size([1028, 28, 28]))"
            ]
          },
          "metadata": {},
          "execution_count": 16
        }
      ]
    },
    {
      "cell_type": "code",
      "source": [
        "ir = valid_3_tens[88]\n",
        "show_image(ir);"
      ],
      "metadata": {
        "colab": {
          "base_uri": "https://localhost:8080/",
          "height": 85
        },
        "id": "ZMp0b0Ur2d77",
        "outputId": "985de798-64c3-496c-dca7-d03143dd93ec"
      },
      "execution_count": 17,
      "outputs": [
        {
          "output_type": "display_data",
          "data": {
            "text/plain": [
              "<Figure size 72x72 with 1 Axes>"
            ],
            "image/png": "[encoded data removed]"
          },
          "metadata": {
            "needs_background": "light"
          }
        }
      ]
    },
    {
      "cell_type": "code",
      "source": [
        "def mnist_distance(a,b): return (a-b).abs().mean((-1,-2))\n",
        "mnist_distance(a_3, mean3)"
      ],
      "metadata": {
        "colab": {
          "base_uri": "https://localhost:8080/"
        },
        "id": "jSXGQ3A63Tp5",
        "outputId": "081c5d99-90e0-45a5-c02b-699300d852b9"
      },
      "execution_count": 18,
      "outputs": [
        {
          "output_type": "execute_result",
          "data": {
            "text/plain": [
              "tensor(0.1114)"
            ]
          },
          "metadata": {},
          "execution_count": 18
        }
      ]
    },
    {
      "cell_type": "code",
      "source": [
        "valid_3_dist = mnist_distance(valid_3_tens, mean3)\n",
        "valid_3_dist, valid_3_dist.shape"
      ],
      "metadata": {
        "colab": {
          "base_uri": "https://localhost:8080/"
        },
        "id": "5AkGLRNI3qMg",
        "outputId": "000b5fc5-50c9-48ee-f4d5-9457ac635e3a"
      },
      "execution_count": 19,
      "outputs": [
        {
          "output_type": "execute_result",
          "data": {
            "text/plain": [
              "(tensor([0.1245, 0.1206, 0.1359,  ..., 0.1076, 0.1327, 0.1272]),\n",
              " torch.Size([1010]))"
            ]
          },
          "metadata": {},
          "execution_count": 19
        }
      ]
    },
    {
      "cell_type": "code",
      "source": [
        "def is_3(x): return mnist_distance(x,mean3) < mnist_distance(x,mean7)"
      ],
      "metadata": {
        "id": "X9uoaGAK46VL"
      },
      "execution_count": 20,
      "outputs": []
    },
    {
      "cell_type": "code",
      "source": [
        "is_3(a_3), is_3(a_3).float()"
      ],
      "metadata": {
        "colab": {
          "base_uri": "https://localhost:8080/"
        },
        "id": "ZgZSACVR5Aw0",
        "outputId": "0b981d4e-c0fc-4989-feac-c5aae9b1636e"
      },
      "execution_count": 21,
      "outputs": [
        {
          "output_type": "execute_result",
          "data": {
            "text/plain": [
              "(tensor(True), tensor(1.))"
            ]
          },
          "metadata": {},
          "execution_count": 21
        }
      ]
    },
    {
      "cell_type": "code",
      "source": [
        "accuracy_3s =      is_3(valid_3_tens).float() .mean()\n",
        "accuracy_7s = (1 - is_3(valid_7_tens).float()).mean()\n",
        "\n",
        "accuracy_3s,accuracy_7s,(accuracy_3s+accuracy_7s)/2"
      ],
      "metadata": {
        "colab": {
          "base_uri": "https://localhost:8080/"
        },
        "id": "5PRLwMCH5SvX",
        "outputId": "f4a996a1-9923-43b0-920b-325687c1e5a6"
      },
      "execution_count": 22,
      "outputs": [
        {
          "output_type": "execute_result",
          "data": {
            "text/plain": [
              "(tensor(0.9168), tensor(0.9854), tensor(0.9511))"
            ]
          },
          "metadata": {},
          "execution_count": 22
        }
      ]
    },
    {
      "cell_type": "code",
      "source": [
        "gv('''\n",
        "init->predict->loss->gradient->step->stop\n",
        "step->predict[label=repeat]\n",
        "''')"
      ],
      "metadata": {
        "colab": {
          "base_uri": "https://localhost:8080/",
          "height": 125
        },
        "id": "JXH-PMbf5rEI",
        "outputId": "4bf524f1-f8d2-4a0f-c2d0-6fe7fa336c4e"
      },
      "execution_count": 61,
      "outputs": [
        {
          "output_type": "execute_result",
          "data": {
            "text/plain": [
              "<graphviz.files.Source at 0x7fb195034090>"
            ],
            "image/svg+xml": "<?xml version=\"1.0\" encoding=\"UTF-8\" standalone=\"no\"?>\n<!DOCTYPE svg PUBLIC \"-//W3C//DTD SVG 1.1//EN\"\n \"http://www.w3.org/Graphics/SVG/1.1/DTD/svg11.dtd\">\n<!-- Generated by graphviz version 2.40.1 (20161225.0304)\n -->\n<!-- Title: G Pages: 1 -->\n<svg width=\"597pt\" height=\"78pt\"\n viewBox=\"0.00 0.00 596.69 78.00\" xmlns=\"http://www.w3.org/2000/svg\" xmlns:xlink=\"http://www.w3.org/1999/xlink\">\n<g id=\"graph0\" class=\"graph\" transform=\"scale(1 1) rotate(0) translate(4 74)\">\n<title>G</title>\n<polygon fill=\"#ffffff\" stroke=\"transparent\" points=\"-4,4 -4,-74 592.6863,-74 592.6863,4 -4,4\"/>\n<!-- init -->\n<g id=\"node1\" class=\"node\">\n<title>init</title>\n<ellipse fill=\"none\" stroke=\"#000000\" cx=\"27\" cy=\"-18\" rx=\"27\" ry=\"18\"/>\n<text text-anchor=\"middle\" x=\"27\" y=\"-14.3\" font-family=\"Times,serif\" font-size=\"14.00\" fill=\"#000000\">init</text>\n</g>\n<!-- predict -->\n<g id=\"node2\" class=\"node\">\n<title>predict</title>\n<ellipse fill=\"none\" stroke=\"#000000\" cx=\"127.3968\" cy=\"-18\" rx=\"36.2938\" ry=\"18\"/>\n<text text-anchor=\"middle\" x=\"127.3968\" y=\"-14.3\" font-family=\"Times,serif\" font-size=\"14.00\" fill=\"#000000\">predict</text>\n</g>\n<!-- init&#45;&gt;predict -->\n<g id=\"edge1\" class=\"edge\">\n<title>init&#45;&gt;predict</title>\n<path fill=\"none\" stroke=\"#000000\" d=\"M54.1688,-18C62.3543,-18 71.5827,-18 80.6596,-18\"/>\n<polygon fill=\"#000000\" stroke=\"#000000\" points=\"80.7795,-21.5001 90.7795,-18 80.7795,-14.5001 80.7795,-21.5001\"/>\n</g>\n<!-- loss -->\n<g id=\"node3\" class=\"node\">\n<title>loss</title>\n<ellipse fill=\"none\" stroke=\"#000000\" cx=\"227.7935\" cy=\"-52\" rx=\"27\" ry=\"18\"/>\n<text text-anchor=\"middle\" x=\"227.7935\" y=\"-48.3\" font-family=\"Times,serif\" font-size=\"14.00\" fill=\"#000000\">loss</text>\n</g>\n<!-- predict&#45;&gt;loss -->\n<g id=\"edge2\" class=\"edge\">\n<title>predict&#45;&gt;loss</title>\n<path fill=\"none\" stroke=\"#000000\" d=\"M157.5191,-28.2011C168.9806,-32.0826 182.1139,-36.5303 193.9014,-40.5222\"/>\n<polygon fill=\"#000000\" stroke=\"#000000\" points=\"192.8259,-43.8532 203.4202,-43.7458 195.0713,-37.2231 192.8259,-43.8532\"/>\n</g>\n<!-- gradient -->\n<g id=\"node4\" class=\"node\">\n<title>gradient</title>\n<ellipse fill=\"none\" stroke=\"#000000\" cx=\"365.7399\" cy=\"-52\" rx=\"40.8928\" ry=\"18\"/>\n<text text-anchor=\"middle\" x=\"365.7399\" y=\"-48.3\" font-family=\"Times,serif\" font-size=\"14.00\" fill=\"#000000\">gradient</text>\n</g>\n<!-- loss&#45;&gt;gradient -->\n<g id=\"edge3\" class=\"edge\">\n<title>loss&#45;&gt;gradient</title>\n<path fill=\"none\" stroke=\"#000000\" d=\"M255.0473,-52C272.0415,-52 294.4481,-52 314.6545,-52\"/>\n<polygon fill=\"#000000\" stroke=\"#000000\" points=\"314.671,-55.5001 324.671,-52 314.671,-48.5001 314.671,-55.5001\"/>\n</g>\n<!-- step -->\n<g id=\"node5\" class=\"node\">\n<title>step</title>\n<ellipse fill=\"none\" stroke=\"#000000\" cx=\"470.6863\" cy=\"-18\" rx=\"27\" ry=\"18\"/>\n<text text-anchor=\"middle\" x=\"470.6863\" y=\"-14.3\" font-family=\"Times,serif\" font-size=\"14.00\" fill=\"#000000\">step</text>\n</g>\n<!-- gradient&#45;&gt;step -->\n<g id=\"edge4\" class=\"edge\">\n<title>gradient&#45;&gt;step</title>\n<path fill=\"none\" stroke=\"#000000\" d=\"M398.9456,-41.2422C410.9558,-37.3512 424.5297,-32.9536 436.6132,-29.0388\"/>\n<polygon fill=\"#000000\" stroke=\"#000000\" points=\"437.9112,-32.2975 446.3457,-25.8857 435.7537,-25.6382 437.9112,-32.2975\"/>\n</g>\n<!-- step&#45;&gt;predict -->\n<g id=\"edge6\" class=\"edge\">\n<title>step&#45;&gt;predict</title>\n<path fill=\"none\" stroke=\"#000000\" d=\"M443.4266,-18C384.9297,-18 246.7861,-18 174.0495,-18\"/>\n<polygon fill=\"#000000\" stroke=\"#000000\" points=\"173.8098,-14.5001 163.8098,-18 173.8097,-21.5001 173.8098,-14.5001\"/>\n<text text-anchor=\"middle\" x=\"289.7935\" y=\"-21.8\" font-family=\"Times,serif\" font-size=\"14.00\" fill=\"#000000\">repeat</text>\n</g>\n<!-- stop -->\n<g id=\"node6\" class=\"node\">\n<title>stop</title>\n<ellipse fill=\"none\" stroke=\"#000000\" cx=\"561.6863\" cy=\"-18\" rx=\"27\" ry=\"18\"/>\n<text text-anchor=\"middle\" x=\"561.6863\" y=\"-14.3\" font-family=\"Times,serif\" font-size=\"14.00\" fill=\"#000000\">stop</text>\n</g>\n<!-- step&#45;&gt;stop -->\n<g id=\"edge5\" class=\"edge\">\n<title>step&#45;&gt;stop</title>\n<path fill=\"none\" stroke=\"#000000\" d=\"M497.9893,-18C506.2676,-18 515.508,-18 524.3268,-18\"/>\n<polygon fill=\"#000000\" stroke=\"#000000\" points=\"524.4026,-21.5001 534.4025,-18 524.4025,-14.5001 524.4026,-21.5001\"/>\n</g>\n</g>\n</svg>\n"
          },
          "metadata": {},
          "execution_count": 61
        }
      ]
    },
    {
      "cell_type": "code",
      "source": [
        "def f(x): return x**2\n",
        "plot_function(f, 'x', 'x**2')\n",
        "plt.scatter(-1.5, f(-1.5), color='red');"
      ],
      "metadata": {
        "colab": {
          "base_uri": "https://localhost:8080/",
          "height": 285
        },
        "id": "zb_TozYC6Ssh",
        "outputId": "4b1ed4f1-3b82-4907-9fb4-d74edd748855"
      },
      "execution_count": 23,
      "outputs": [
        {
          "output_type": "display_data",
          "data": {
            "text/plain": [
              "<Figure size 432x288 with 1 Axes>"
            ],
            "image/png": "[encoded data removed]"
          },
          "metadata": {
            "needs_background": "light"
          }
        }
      ]
    },
    {
      "cell_type": "code",
      "source": [
        "xt = tensor(3.).requires_grad_()\n",
        "xt"
      ],
      "metadata": {
        "colab": {
          "base_uri": "https://localhost:8080/"
        },
        "id": "3kle9FDh6rKU",
        "outputId": "270046ce-e967-4f0a-97bd-a58acaa3c741"
      },
      "execution_count": 24,
      "outputs": [
        {
          "output_type": "execute_result",
          "data": {
            "text/plain": [
              "tensor(3., requires_grad=True)"
            ]
          },
          "metadata": {},
          "execution_count": 24
        }
      ]
    },
    {
      "cell_type": "code",
      "source": [
        "yt = f(xt)\n",
        "yt"
      ],
      "metadata": {
        "colab": {
          "base_uri": "https://localhost:8080/"
        },
        "id": "hD4bkQNg6_BU",
        "outputId": "0804d712-f435-4874-aab4-8bf41c41880f"
      },
      "execution_count": 25,
      "outputs": [
        {
          "output_type": "execute_result",
          "data": {
            "text/plain": [
              "tensor(9., grad_fn=<PowBackward0>)"
            ]
          },
          "metadata": {},
          "execution_count": 25
        }
      ]
    },
    {
      "cell_type": "code",
      "source": [
        "yt.backward()\n",
        "yt"
      ],
      "metadata": {
        "colab": {
          "base_uri": "https://localhost:8080/"
        },
        "id": "RaFlnJai7YmQ",
        "outputId": "d5d8e7dc-872d-4e49-a44f-33493bcac0f0"
      },
      "execution_count": 26,
      "outputs": [
        {
          "output_type": "execute_result",
          "data": {
            "text/plain": [
              "tensor(9., grad_fn=<PowBackward0>)"
            ]
          },
          "metadata": {},
          "execution_count": 26
        }
      ]
    },
    {
      "cell_type": "code",
      "source": [
        "xt.grad"
      ],
      "metadata": {
        "colab": {
          "base_uri": "https://localhost:8080/"
        },
        "id": "kvffny327rwC",
        "outputId": "7dc91947-29ca-4012-e173-4d5f3fcbb52b"
      },
      "execution_count": 27,
      "outputs": [
        {
          "output_type": "execute_result",
          "data": {
            "text/plain": [
              "tensor(6.)"
            ]
          },
          "metadata": {},
          "execution_count": 27
        }
      ]
    },
    {
      "cell_type": "code",
      "source": [
        "xt = tensor([3.,4.,10.]).requires_grad_()\n",
        "xt"
      ],
      "metadata": {
        "colab": {
          "base_uri": "https://localhost:8080/"
        },
        "id": "YnFUn-sK8Jqx",
        "outputId": "992a2b8a-a8de-411f-b499-3834326d4617"
      },
      "execution_count": 28,
      "outputs": [
        {
          "output_type": "execute_result",
          "data": {
            "text/plain": [
              "tensor([ 3.,  4., 10.], requires_grad=True)"
            ]
          },
          "metadata": {},
          "execution_count": 28
        }
      ]
    },
    {
      "cell_type": "code",
      "source": [
        "def f(x): return (x**2).sum()\n",
        "\n",
        "yt = f(xt)\n",
        "yt"
      ],
      "metadata": {
        "colab": {
          "base_uri": "https://localhost:8080/"
        },
        "id": "OrAeaMo08VDC",
        "outputId": "31c50fbf-f964-4835-a64f-242cf914765b"
      },
      "execution_count": 29,
      "outputs": [
        {
          "output_type": "execute_result",
          "data": {
            "text/plain": [
              "tensor(125., grad_fn=<SumBackward0>)"
            ]
          },
          "metadata": {},
          "execution_count": 29
        }
      ]
    },
    {
      "cell_type": "code",
      "source": [
        "yt.backward()\n",
        "xt.grad"
      ],
      "metadata": {
        "colab": {
          "base_uri": "https://localhost:8080/"
        },
        "id": "LwVM7CA_8iTw",
        "outputId": "7c87e62e-03b5-48ad-b4f2-b5d532db467e"
      },
      "execution_count": 30,
      "outputs": [
        {
          "output_type": "execute_result",
          "data": {
            "text/plain": [
              "tensor([ 6.,  8., 20.])"
            ]
          },
          "metadata": {},
          "execution_count": 30
        }
      ]
    },
    {
      "cell_type": "code",
      "source": [
        "time = torch.arange(0,20).float(); time"
      ],
      "metadata": {
        "colab": {
          "base_uri": "https://localhost:8080/"
        },
        "id": "JL0fptRD8u0D",
        "outputId": "d24569f7-e8e4-41e2-dd1c-ff62b0d3384c"
      },
      "execution_count": 31,
      "outputs": [
        {
          "output_type": "execute_result",
          "data": {
            "text/plain": [
              "tensor([ 0.,  1.,  2.,  3.,  4.,  5.,  6.,  7.,  8.,  9., 10., 11., 12., 13., 14., 15., 16., 17., 18., 19.])"
            ]
          },
          "metadata": {},
          "execution_count": 31
        }
      ]
    },
    {
      "cell_type": "code",
      "source": [
        "n = torch.randn(20)*3\n",
        "n\n",
        "o = 0.75*(time-9.5)**2 + 1\n",
        "print(n,o)"
      ],
      "metadata": {
        "colab": {
          "base_uri": "https://localhost:8080/"
        },
        "id": "tmM7PzslipYc",
        "outputId": "39cbec36-1115-4f65-f437-d40adbd51800"
      },
      "execution_count": 32,
      "outputs": [
        {
          "output_type": "stream",
          "name": "stdout",
          "text": [
            "tensor([ 5.7807,  4.4619,  2.7022, -6.3166, -2.2744,  3.2350,  2.4024,  5.0419,  1.0676, -2.0599, -1.4801,  0.7245, -0.6949,  0.1253, -0.7547,  2.5796, -0.9292, -1.1871,  2.4102, -1.8648]) tensor([68.6875, 55.1875, 43.1875, 32.6875, 23.6875, 16.1875, 10.1875,  5.6875,  2.6875,  1.1875,  1.1875,  2.6875,  5.6875, 10.1875, 16.1875, 23.6875, 32.6875, 43.1875, 55.1875, 68.6875])\n"
          ]
        }
      ]
    },
    {
      "cell_type": "code",
      "source": [
        "speed = torch.randn(20)*3 + 0.75*(time-9.5)**2 + 1\n",
        "plt.scatter(time,speed);"
      ],
      "metadata": {
        "colab": {
          "base_uri": "https://localhost:8080/",
          "height": 268
        },
        "id": "hIyrf26S81vs",
        "outputId": "bd0debba-2925-4d1a-b32b-c0fa5ff3c73b"
      },
      "execution_count": 33,
      "outputs": [
        {
          "output_type": "display_data",
          "data": {
            "text/plain": [
              "<Figure size 432x288 with 1 Axes>"
            ],
            "image/png": "[encoded data removed]"
          },
          "metadata": {
            "needs_background": "light"
          }
        }
      ]
    },
    {
      "cell_type": "code",
      "source": [
        "def f(t, params):\n",
        "    a,b,c = params\n",
        "    return a*(t**2) + (b*t) + c"
      ],
      "metadata": {
        "id": "eRlX7g8n9iUE"
      },
      "execution_count": 34,
      "outputs": []
    },
    {
      "cell_type": "code",
      "source": [
        "def mse(preds, targets): return ((preds-targets)**2).mean()"
      ],
      "metadata": {
        "id": "KB7EJQA09pWT"
      },
      "execution_count": 35,
      "outputs": []
    },
    {
      "cell_type": "code",
      "source": [
        "params = torch.randn(3).requires_grad_()\n",
        "params"
      ],
      "metadata": {
        "colab": {
          "base_uri": "https://localhost:8080/"
        },
        "id": "2gyCCgyw96as",
        "outputId": "80558a4f-a5f4-40c6-e085-b54f174d5d1e"
      },
      "execution_count": 41,
      "outputs": [
        {
          "output_type": "execute_result",
          "data": {
            "text/plain": [
              "tensor([ 0.9912,  0.4679, -0.2049], requires_grad=True)"
            ]
          },
          "metadata": {},
          "execution_count": 41
        }
      ]
    },
    {
      "cell_type": "code",
      "source": [
        "orig_params = params.clone()\n",
        "orig_params"
      ],
      "metadata": {
        "colab": {
          "base_uri": "https://localhost:8080/"
        },
        "id": "FUKDZjSu99nW",
        "outputId": "aa5a0bec-f9bd-4956-fc52-c97662510620"
      },
      "execution_count": 42,
      "outputs": [
        {
          "output_type": "execute_result",
          "data": {
            "text/plain": [
              "tensor([ 0.9912,  0.4679, -0.2049], grad_fn=<CloneBackward0>)"
            ]
          },
          "metadata": {},
          "execution_count": 42
        }
      ]
    },
    {
      "cell_type": "code",
      "source": [
        "preds = f(time, params)\n",
        "preds.shape"
      ],
      "metadata": {
        "colab": {
          "base_uri": "https://localhost:8080/"
        },
        "id": "F7_eH-ZT-BeH",
        "outputId": "1da4fa3d-2e3b-4499-f21b-c6f067cf8439"
      },
      "execution_count": 43,
      "outputs": [
        {
          "output_type": "execute_result",
          "data": {
            "text/plain": [
              "torch.Size([20])"
            ]
          },
          "metadata": {},
          "execution_count": 43
        }
      ]
    },
    {
      "cell_type": "code",
      "source": [
        "def show_preds(preds, ax=None):\n",
        "    if ax is None: ax=plt.subplots()[1]\n",
        "    ax.scatter(time, speed)\n",
        "    ax.scatter(time, to_np(preds), color='red')\n",
        "    ax.set_ylim(-300,100)"
      ],
      "metadata": {
        "id": "B7-50Tq8-GMG"
      },
      "execution_count": 44,
      "outputs": []
    },
    {
      "cell_type": "code",
      "source": [
        "show_preds(preds)"
      ],
      "metadata": {
        "colab": {
          "base_uri": "https://localhost:8080/",
          "height": 273
        },
        "id": "1K6ZemuL-J5X",
        "outputId": "873d76e8-cd0a-46a3-f51c-bd3038b7fe98"
      },
      "execution_count": 45,
      "outputs": [
        {
          "output_type": "display_data",
          "data": {
            "text/plain": [
              "<Figure size 432x288 with 1 Axes>"
            ],
            "image/png": "[encoded data removed]"
          },
          "metadata": {
            "needs_background": "light"
          }
        }
      ]
    },
    {
      "cell_type": "code",
      "source": [
        "loss = mse(preds, speed)\n",
        "loss"
      ],
      "metadata": {
        "colab": {
          "base_uri": "https://localhost:8080/"
        },
        "id": "zoaqSnev-gvJ",
        "outputId": "ecea8e7a-211b-4451-81ed-fcd5d4032cd0"
      },
      "execution_count": 46,
      "outputs": [
        {
          "output_type": "execute_result",
          "data": {
            "text/plain": [
              "tensor(22559.9629, grad_fn=<MeanBackward0>)"
            ]
          },
          "metadata": {},
          "execution_count": 46
        }
      ]
    },
    {
      "cell_type": "code",
      "source": [
        "loss.backward()\n",
        "params.grad"
      ],
      "metadata": {
        "colab": {
          "base_uri": "https://localhost:8080/"
        },
        "id": "TBDukpjA-oLw",
        "outputId": "099d9cd4-4188-4ba2-c595-66dc24345934"
      },
      "execution_count": 47,
      "outputs": [
        {
          "output_type": "execute_result",
          "data": {
            "text/plain": [
              "tensor([49674.8438,  3194.6436,   201.2619])"
            ]
          },
          "metadata": {},
          "execution_count": 47
        }
      ]
    },
    {
      "cell_type": "code",
      "source": [
        "params.grad * 0.00001"
      ],
      "metadata": {
        "colab": {
          "base_uri": "https://localhost:8080/"
        },
        "id": "kj6Z5fu7-yYM",
        "outputId": "e793b1c7-80ed-416d-bfac-f1e7df28b376"
      },
      "execution_count": 48,
      "outputs": [
        {
          "output_type": "execute_result",
          "data": {
            "text/plain": [
              "tensor([0.4967, 0.0319, 0.0020])"
            ]
          },
          "metadata": {},
          "execution_count": 48
        }
      ]
    },
    {
      "cell_type": "code",
      "source": [
        "params"
      ],
      "metadata": {
        "colab": {
          "base_uri": "https://localhost:8080/"
        },
        "id": "xQ4bc3eB_JVq",
        "outputId": "677886ba-43e7-478f-d573-72ca9f1cca30"
      },
      "execution_count": 49,
      "outputs": [
        {
          "output_type": "execute_result",
          "data": {
            "text/plain": [
              "tensor([ 0.9912,  0.4679, -0.2049], requires_grad=True)"
            ]
          },
          "metadata": {},
          "execution_count": 49
        }
      ]
    },
    {
      "cell_type": "code",
      "source": [
        "lr = 0.00001\n",
        "params.data -= lr * params.grad.data\n",
        "params.grad = None"
      ],
      "metadata": {
        "id": "ckjVT21G_Kr4"
      },
      "execution_count": 50,
      "outputs": []
    },
    {
      "cell_type": "code",
      "source": [
        "preds = f(time,params)\n",
        "mse(preds, speed)"
      ],
      "metadata": {
        "colab": {
          "base_uri": "https://localhost:8080/"
        },
        "id": "BF1UD-Dp_Tt0",
        "outputId": "9528e404-1079-49cd-a1de-e2da71323561"
      },
      "execution_count": 51,
      "outputs": [
        {
          "output_type": "execute_result",
          "data": {
            "text/plain": [
              "tensor(4781.4028, grad_fn=<MeanBackward0>)"
            ]
          },
          "metadata": {},
          "execution_count": 51
        }
      ]
    },
    {
      "cell_type": "code",
      "source": [
        "show_preds(preds)"
      ],
      "metadata": {
        "colab": {
          "base_uri": "https://localhost:8080/",
          "height": 273
        },
        "id": "Ia4MAIMI_Xjf",
        "outputId": "a077ec05-a969-4828-864a-1588a6bc6936"
      },
      "execution_count": 52,
      "outputs": [
        {
          "output_type": "display_data",
          "data": {
            "text/plain": [
              "<Figure size 432x288 with 1 Axes>"
            ],
            "image/png": "[encoded data removed]"
          },
          "metadata": {
            "needs_background": "light"
          }
        }
      ]
    },
    {
      "cell_type": "code",
      "source": [
        "def apply_step(params, prn=True):\n",
        "    preds = f(time, params)\n",
        "    loss = mse(preds, speed)\n",
        "    loss.backward()\n",
        "    params.data -= lr * params.grad.data\n",
        "    params.grad = None\n",
        "    if prn: print(loss.item())\n",
        "    return preds"
      ],
      "metadata": {
        "id": "sKpWeVWplnvH"
      },
      "execution_count": 53,
      "outputs": []
    },
    {
      "cell_type": "code",
      "source": [
        "for i in range(10): apply_step(params)"
      ],
      "metadata": {
        "colab": {
          "base_uri": "https://localhost:8080/"
        },
        "id": "DgHsYYuGltz-",
        "outputId": "951312cd-bd5e-4d29-e573-dd3db77a6221"
      },
      "execution_count": 54,
      "outputs": [
        {
          "output_type": "stream",
          "name": "stdout",
          "text": [
            "4781.40283203125\n",
            "1417.1546630859375\n",
            "780.5333251953125\n",
            "660.0623168945312\n",
            "637.2628173828125\n",
            "632.94580078125\n",
            "632.1260986328125\n",
            "631.9683837890625\n",
            "631.935791015625\n",
            "631.9269409179688\n"
          ]
        }
      ]
    },
    {
      "cell_type": "code",
      "source": [
        "params = orig_params.detach().requires_grad_()"
      ],
      "metadata": {
        "id": "coYTL22pl1Au"
      },
      "execution_count": 229,
      "outputs": []
    },
    {
      "cell_type": "code",
      "source": [
        "_,axs = plt.subplots(1,6,figsize=(12,3))\n",
        "for ax in axs: show_preds(apply_step(params, False), ax)\n",
        "plt.tight_layout()"
      ],
      "metadata": {
        "colab": {
          "base_uri": "https://localhost:8080/",
          "height": 221
        },
        "id": "p9Wj5jRjmB_6",
        "outputId": "f3e0a0b4-584f-44b7-ddfc-84bed75bb130"
      },
      "execution_count": 230,
      "outputs": [
        {
          "output_type": "display_data",
          "data": {
            "text/plain": [
              "<Figure size 864x216 with 6 Axes>"
            ],
            "image/png": "[encoded data removed]"
          },
          "metadata": {
            "needs_background": "light"
          }
        }
      ]
    },
    {
      "cell_type": "code",
      "source": [
        "train_x = torch.cat([stacked_threes, stacked_sevens]).view(-1, 28*28)"
      ],
      "metadata": {
        "id": "3ApkROfioera"
      },
      "execution_count": 57,
      "outputs": []
    },
    {
      "cell_type": "code",
      "source": [
        "train_y = tensor([1]*len(threes) + [0]*len(sevens)).unsqueeze(1)\n",
        "train_x.shape,train_y.shape"
      ],
      "metadata": {
        "colab": {
          "base_uri": "https://localhost:8080/"
        },
        "id": "2RBDsHvtpv9x",
        "outputId": "cd7135e0-a837-498f-ae2a-7aa3b36805df"
      },
      "execution_count": 58,
      "outputs": [
        {
          "output_type": "execute_result",
          "data": {
            "text/plain": [
              "(torch.Size([12396, 784]), torch.Size([12396, 1]))"
            ]
          },
          "metadata": {},
          "execution_count": 58
        }
      ]
    },
    {
      "cell_type": "code",
      "source": [
        "dset = list(zip(train_x,train_y))\n",
        "x,y = dset[0]\n",
        "x.shape,y"
      ],
      "metadata": {
        "colab": {
          "base_uri": "https://localhost:8080/"
        },
        "id": "8rtLk5DSp0SU",
        "outputId": "27db6407-48a5-42d5-dc9e-58fca32b6a16"
      },
      "execution_count": 59,
      "outputs": [
        {
          "output_type": "execute_result",
          "data": {
            "text/plain": [
              "(torch.Size([784]), tensor([1]))"
            ]
          },
          "metadata": {},
          "execution_count": 59
        }
      ]
    },
    {
      "cell_type": "code",
      "source": [
        "valid_x = torch.cat([valid_3_tens, valid_7_tens]).view(-1, 28*28)\n",
        "valid_y = tensor([1]*len(valid_3_tens) + [0]*len(valid_7_tens)).unsqueeze(1)\n",
        "valid_dset = list(zip(valid_x,valid_y))"
      ],
      "metadata": {
        "id": "bUnSel5Hp6Wu"
      },
      "execution_count": 60,
      "outputs": []
    },
    {
      "cell_type": "code",
      "source": [
        "def init_params(size, std=1.0): return (torch.randn(size)*std).requires_grad_()"
      ],
      "metadata": {
        "id": "smuc0jRjqAfw"
      },
      "execution_count": 61,
      "outputs": []
    },
    {
      "cell_type": "code",
      "source": [
        "weights = init_params((28*28,1))\n",
        "weights.shape\n",
        "#weights"
      ],
      "metadata": {
        "colab": {
          "base_uri": "https://localhost:8080/"
        },
        "id": "ctI1so2fqFTI",
        "outputId": "361e44c4-7155-46ab-be5c-2fe9dac380fe"
      },
      "execution_count": 62,
      "outputs": [
        {
          "output_type": "execute_result",
          "data": {
            "text/plain": [
              "torch.Size([784, 1])"
            ]
          },
          "metadata": {},
          "execution_count": 62
        }
      ]
    },
    {
      "cell_type": "code",
      "source": [
        "bias = init_params(1)\n",
        "bias"
      ],
      "metadata": {
        "colab": {
          "base_uri": "https://localhost:8080/"
        },
        "id": "XTaof9QaqWzN",
        "outputId": "81471264-b7db-47ec-a4dd-0cfc4d4385f6"
      },
      "execution_count": 63,
      "outputs": [
        {
          "output_type": "execute_result",
          "data": {
            "text/plain": [
              "tensor([-0.0061], requires_grad=True)"
            ]
          },
          "metadata": {},
          "execution_count": 63
        }
      ]
    },
    {
      "cell_type": "code",
      "source": [
        "(train_x[1]*weights.T).sum() + bias"
      ],
      "metadata": {
        "colab": {
          "base_uri": "https://localhost:8080/"
        },
        "id": "-SoCfYqfqhi3",
        "outputId": "b9bf1c22-8c0b-489e-f88b-9c18ce82db44"
      },
      "execution_count": 64,
      "outputs": [
        {
          "output_type": "execute_result",
          "data": {
            "text/plain": [
              "tensor([6.8557], grad_fn=<AddBackward0>)"
            ]
          },
          "metadata": {},
          "execution_count": 64
        }
      ]
    },
    {
      "cell_type": "code",
      "source": [
        "def linear1(xb): return xb@weights + bias\n",
        "preds = linear1(train_x)\n",
        "preds"
      ],
      "metadata": {
        "colab": {
          "base_uri": "https://localhost:8080/"
        },
        "id": "TBQWKmBGq1T-",
        "outputId": "ccad8791-94d3-4fc3-adea-0acfdac40a1f"
      },
      "execution_count": 65,
      "outputs": [
        {
          "output_type": "execute_result",
          "data": {
            "text/plain": [
              "tensor([[ 5.3017],\n",
              "        [ 6.8557],\n",
              "        [16.4948],\n",
              "        ...,\n",
              "        [-3.7922],\n",
              "        [ 4.1024],\n",
              "        [ 0.1021]], grad_fn=<AddBackward0>)"
            ]
          },
          "metadata": {},
          "execution_count": 65
        }
      ]
    },
    {
      "cell_type": "code",
      "source": [
        "corrects = (preds>0.0).float() == train_y\n",
        "corrects"
      ],
      "metadata": {
        "colab": {
          "base_uri": "https://localhost:8080/"
        },
        "id": "MoJyF0-ErHZU",
        "outputId": "3566257d-33f1-4fe3-dd6c-c33b4fe77ca4"
      },
      "execution_count": 66,
      "outputs": [
        {
          "output_type": "execute_result",
          "data": {
            "text/plain": [
              "tensor([[ True],\n",
              "        [ True],\n",
              "        [ True],\n",
              "        ...,\n",
              "        [ True],\n",
              "        [False],\n",
              "        [False]])"
            ]
          },
          "metadata": {},
          "execution_count": 66
        }
      ]
    },
    {
      "cell_type": "code",
      "source": [
        "corrects.float().mean().item()"
      ],
      "metadata": {
        "colab": {
          "base_uri": "https://localhost:8080/"
        },
        "id": "tF6Sm1M7rPGF",
        "outputId": "7c6e1956-d182-46b2-f0aa-078f4ed9e537"
      },
      "execution_count": 67,
      "outputs": [
        {
          "output_type": "execute_result",
          "data": {
            "text/plain": [
              "0.5409002900123596"
            ]
          },
          "metadata": {},
          "execution_count": 67
        }
      ]
    },
    {
      "cell_type": "code",
      "source": [
        "with torch.no_grad(): weights[0] *= 1.0001"
      ],
      "metadata": {
        "id": "1vKppsS1rTjt"
      },
      "execution_count": 68,
      "outputs": []
    },
    {
      "cell_type": "code",
      "source": [
        "preds = linear1(train_x)\n",
        "((preds>0.0).float() == train_y).float().mean().item()"
      ],
      "metadata": {
        "colab": {
          "base_uri": "https://localhost:8080/"
        },
        "id": "XDLHxkJTra8Y",
        "outputId": "2dfb4c5b-ddae-4459-ee82-3409e8590460"
      },
      "execution_count": 69,
      "outputs": [
        {
          "output_type": "execute_result",
          "data": {
            "text/plain": [
              "0.5409002900123596"
            ]
          },
          "metadata": {},
          "execution_count": 69
        }
      ]
    },
    {
      "cell_type": "code",
      "source": [
        "trgts  = tensor([1,0,1])\n",
        "prds   = tensor([0.9, 0.4, 0.9])"
      ],
      "metadata": {
        "id": "OpzYpPr9ruiD"
      },
      "execution_count": 70,
      "outputs": []
    },
    {
      "cell_type": "code",
      "source": [
        "def mnist_loss(predictions, targets):\n",
        "    return torch.where(targets==1, 1-predictions, predictions).mean()"
      ],
      "metadata": {
        "id": "pjVbfGu_r5rM"
      },
      "execution_count": 71,
      "outputs": []
    },
    {
      "cell_type": "code",
      "source": [
        "torch.where(trgts==1, 1-prds, prds)"
      ],
      "metadata": {
        "colab": {
          "base_uri": "https://localhost:8080/"
        },
        "id": "0iC_aeVar_cR",
        "outputId": "beb32647-b2d9-4099-d449-a286764ce3f0"
      },
      "execution_count": 72,
      "outputs": [
        {
          "output_type": "execute_result",
          "data": {
            "text/plain": [
              "tensor([0.1000, 0.4000, 0.1000])"
            ]
          },
          "metadata": {},
          "execution_count": 72
        }
      ]
    },
    {
      "cell_type": "code",
      "source": [
        "mnist_loss(prds,trgts)"
      ],
      "metadata": {
        "colab": {
          "base_uri": "https://localhost:8080/"
        },
        "id": "VuQkraC1sMp3",
        "outputId": "870dff17-261a-4b55-d564-988489159813"
      },
      "execution_count": 73,
      "outputs": [
        {
          "output_type": "execute_result",
          "data": {
            "text/plain": [
              "tensor(0.2000)"
            ]
          },
          "metadata": {},
          "execution_count": 73
        }
      ]
    },
    {
      "cell_type": "code",
      "source": [
        "def sigmoid(x): return 1/(1+torch.exp(-x))"
      ],
      "metadata": {
        "id": "vc3NjV2D6N55"
      },
      "execution_count": 74,
      "outputs": []
    },
    {
      "cell_type": "code",
      "source": [
        "plot_function(torch.sigmoid, title='Sigmoid', min=-4, max=4)"
      ],
      "metadata": {
        "colab": {
          "base_uri": "https://localhost:8080/",
          "height": 285
        },
        "id": "ddej1w2K6VL7",
        "outputId": "d6c38da3-a43c-4b11-fa1f-e971875abe12"
      },
      "execution_count": 75,
      "outputs": [
        {
          "output_type": "display_data",
          "data": {
            "text/plain": [
              "<Figure size 432x288 with 1 Axes>"
            ],
            "image/png": "[encoded data removed]"
          },
          "metadata": {
            "needs_background": "light"
          }
        }
      ]
    },
    {
      "cell_type": "code",
      "source": [
        "def mnist_loss(predictions, targets):\n",
        "    predictions = predictions.sigmoid()\n",
        "    return torch.where(targets==1, 1-predictions, predictions).mean()"
      ],
      "metadata": {
        "id": "geu2UwgF-K4f"
      },
      "execution_count": 76,
      "outputs": []
    },
    {
      "cell_type": "code",
      "source": [
        "coll = range(15)\n",
        "dl = DataLoader(coll, batch_size=5, shuffle=True)\n",
        "list(dl)"
      ],
      "metadata": {
        "colab": {
          "base_uri": "https://localhost:8080/"
        },
        "id": "oq3jZFX9-Pqr",
        "outputId": "a0b0e3af-55d7-4113-a7df-b9dd47270722"
      },
      "execution_count": 77,
      "outputs": [
        {
          "output_type": "execute_result",
          "data": {
            "text/plain": [
              "[tensor([ 3, 12,  8, 10,  2]),\n",
              " tensor([ 9,  4,  7, 14,  5]),\n",
              " tensor([ 1, 13,  0,  6, 11])]"
            ]
          },
          "metadata": {},
          "execution_count": 77
        }
      ]
    },
    {
      "cell_type": "code",
      "source": [
        "ds = L(enumerate(string.ascii_lowercase))\n",
        "ds"
      ],
      "metadata": {
        "colab": {
          "base_uri": "https://localhost:8080/"
        },
        "id": "x5TR0aAJ-boL",
        "outputId": "c7b86ca4-fc11-462b-f4e6-d9801f95fd5f"
      },
      "execution_count": 78,
      "outputs": [
        {
          "output_type": "execute_result",
          "data": {
            "text/plain": [
              "(#26) [(0, 'a'),(1, 'b'),(2, 'c'),(3, 'd'),(4, 'e'),(5, 'f'),(6, 'g'),(7, 'h'),(8, 'i'),(9, 'j')...]"
            ]
          },
          "metadata": {},
          "execution_count": 78
        }
      ]
    },
    {
      "cell_type": "code",
      "source": [
        "dl = DataLoader(ds, batch_size=6, shuffle=True)\n",
        "list(dl)"
      ],
      "metadata": {
        "colab": {
          "base_uri": "https://localhost:8080/"
        },
        "id": "U3T7r4Tn-j55",
        "outputId": "72fc508f-7a7e-41d6-bd36-4a60430505c2"
      },
      "execution_count": 79,
      "outputs": [
        {
          "output_type": "execute_result",
          "data": {
            "text/plain": [
              "[(tensor([17, 18, 10, 22,  8, 14]), ('r', 's', 'k', 'w', 'i', 'o')),\n",
              " (tensor([20, 15,  9, 13, 21, 12]), ('u', 'p', 'j', 'n', 'v', 'm')),\n",
              " (tensor([ 7, 25,  6,  5, 11, 23]), ('h', 'z', 'g', 'f', 'l', 'x')),\n",
              " (tensor([ 1,  3,  0, 24, 19, 16]), ('b', 'd', 'a', 'y', 't', 'q')),\n",
              " (tensor([2, 4]), ('c', 'e'))]"
            ]
          },
          "metadata": {},
          "execution_count": 79
        }
      ]
    },
    {
      "cell_type": "code",
      "source": [
        "weights = init_params((28*28,1))\n",
        "bias = init_params(1)"
      ],
      "metadata": {
        "id": "zIUDxOqX-r9n"
      },
      "execution_count": 80,
      "outputs": []
    },
    {
      "cell_type": "code",
      "source": [
        "dl = DataLoader(dset, batch_size=256)\n",
        "xb,yb = first(dl)\n",
        "xb.shape,yb.shape"
      ],
      "metadata": {
        "colab": {
          "base_uri": "https://localhost:8080/"
        },
        "id": "DfaQj_TC-zPi",
        "outputId": "acd65f0c-9514-4b13-963e-b8f52ff9e63e"
      },
      "execution_count": 83,
      "outputs": [
        {
          "output_type": "execute_result",
          "data": {
            "text/plain": [
              "(torch.Size([256, 784]), torch.Size([256, 1]))"
            ]
          },
          "metadata": {},
          "execution_count": 83
        }
      ]
    },
    {
      "cell_type": "code",
      "source": [
        "valid_dl = DataLoader(valid_dset, batch_size=256)"
      ],
      "metadata": {
        "id": "T4EgJdpp_Co_"
      },
      "execution_count": 84,
      "outputs": []
    },
    {
      "cell_type": "code",
      "source": [
        "batch = train_x[:4]\n",
        "batch.shape"
      ],
      "metadata": {
        "colab": {
          "base_uri": "https://localhost:8080/"
        },
        "id": "xFH4GyoH_beD",
        "outputId": "814dabe1-6c33-48c9-830b-e17431a7d10a"
      },
      "execution_count": 85,
      "outputs": [
        {
          "output_type": "execute_result",
          "data": {
            "text/plain": [
              "torch.Size([4, 784])"
            ]
          },
          "metadata": {},
          "execution_count": 85
        }
      ]
    },
    {
      "cell_type": "code",
      "source": [
        "preds = linear1(batch)\n",
        "preds"
      ],
      "metadata": {
        "colab": {
          "base_uri": "https://localhost:8080/"
        },
        "id": "cq58gC2n_gD_",
        "outputId": "722073d7-d858-49a4-8197-f6e1c226c8a7"
      },
      "execution_count": 86,
      "outputs": [
        {
          "output_type": "execute_result",
          "data": {
            "text/plain": [
              "tensor([[ 0.8251],\n",
              "        [ 0.8406],\n",
              "        [-2.5890],\n",
              "        [ 1.7457]], grad_fn=<AddBackward0>)"
            ]
          },
          "metadata": {},
          "execution_count": 86
        }
      ]
    },
    {
      "cell_type": "code",
      "source": [
        "loss = mnist_loss(preds, train_y[:4])\n",
        "loss"
      ],
      "metadata": {
        "colab": {
          "base_uri": "https://localhost:8080/"
        },
        "id": "iZY_GsJx_jra",
        "outputId": "2494a078-b955-4c8d-8582-c92d74f2b90e"
      },
      "execution_count": 87,
      "outputs": [
        {
          "output_type": "execute_result",
          "data": {
            "text/plain": [
              "tensor(0.4212, grad_fn=<MeanBackward0>)"
            ]
          },
          "metadata": {},
          "execution_count": 87
        }
      ]
    },
    {
      "cell_type": "code",
      "source": [
        "loss.backward()\n",
        "weights.grad.shape,weights.grad.mean(),bias.grad"
      ],
      "metadata": {
        "colab": {
          "base_uri": "https://localhost:8080/"
        },
        "id": "tYgsW0j4_sVM",
        "outputId": "ce44d334-f475-4549-e9f3-a339490f831f"
      },
      "execution_count": 88,
      "outputs": [
        {
          "output_type": "execute_result",
          "data": {
            "text/plain": [
              "(torch.Size([784, 1]), tensor(-0.0230), tensor([-0.1535]))"
            ]
          },
          "metadata": {},
          "execution_count": 88
        }
      ]
    },
    {
      "cell_type": "code",
      "source": [
        "def calc_grad(xb, yb, model):\n",
        "    preds = model(xb)\n",
        "    loss = mnist_loss(preds, yb)\n",
        "    loss.backward()"
      ],
      "metadata": {
        "id": "S44AdoWy_yxg"
      },
      "execution_count": 89,
      "outputs": []
    },
    {
      "cell_type": "code",
      "source": [
        "calc_grad(batch, train_y[:4], linear1)\n",
        "weights.grad.mean(),bias.grad"
      ],
      "metadata": {
        "colab": {
          "base_uri": "https://localhost:8080/"
        },
        "id": "N0sWLZlYAAd4",
        "outputId": "d37b5435-0862-43dd-944f-3fe43c8c3f96"
      },
      "execution_count": 90,
      "outputs": [
        {
          "output_type": "execute_result",
          "data": {
            "text/plain": [
              "(tensor(-0.0459), tensor([-0.3069]))"
            ]
          },
          "metadata": {},
          "execution_count": 90
        }
      ]
    },
    {
      "cell_type": "code",
      "source": [
        "calc_grad(batch, train_y[:4], linear1)\n",
        "weights.grad.mean(),bias.grad"
      ],
      "metadata": {
        "colab": {
          "base_uri": "https://localhost:8080/"
        },
        "id": "NiHeMnmpAMnF",
        "outputId": "975b8b51-800e-4d5a-d487-903454b89965"
      },
      "execution_count": 96,
      "outputs": [
        {
          "output_type": "execute_result",
          "data": {
            "text/plain": [
              "(tensor(-0.0230), tensor([-0.1535]))"
            ]
          },
          "metadata": {},
          "execution_count": 96
        }
      ]
    },
    {
      "cell_type": "code",
      "source": [
        "weights.grad.zero_()\n",
        "bias.grad.zero_();"
      ],
      "metadata": {
        "id": "eUm40GZ0Adl1"
      },
      "execution_count": 95,
      "outputs": []
    },
    {
      "cell_type": "code",
      "source": [
        "def train_epoch(model, lr, params):\n",
        "    for xb,yb in dl:\n",
        "        calc_grad(xb, yb, model)\n",
        "        for p in params:\n",
        "            p.data -= p.grad*lr\n",
        "            p.grad.zero_()"
      ],
      "metadata": {
        "id": "TeOa_HYpA0te"
      },
      "execution_count": 97,
      "outputs": []
    },
    {
      "cell_type": "code",
      "source": [
        "(preds>0.0).float() == train_y[:4]"
      ],
      "metadata": {
        "colab": {
          "base_uri": "https://localhost:8080/"
        },
        "id": "vl2MiIEkBE4c",
        "outputId": "6298622f-856f-4799-e9fc-d8fa641156df"
      },
      "execution_count": 101,
      "outputs": [
        {
          "output_type": "execute_result",
          "data": {
            "text/plain": [
              "tensor([[ True],\n",
              "        [ True],\n",
              "        [False],\n",
              "        [ True]])"
            ]
          },
          "metadata": {},
          "execution_count": 101
        }
      ]
    },
    {
      "cell_type": "code",
      "source": [
        "def batch_accuracy(xb, yb):\n",
        "    preds = xb.sigmoid()\n",
        "    correct = (preds>0.5) == yb\n",
        "    return correct.float().mean()"
      ],
      "metadata": {
        "id": "KiVLomT-Bk9F"
      },
      "execution_count": 102,
      "outputs": []
    },
    {
      "cell_type": "code",
      "source": [
        "batch_accuracy(linear1(batch), train_y[:4])"
      ],
      "metadata": {
        "colab": {
          "base_uri": "https://localhost:8080/"
        },
        "id": "JtiuJ9WPBpki",
        "outputId": "247a37ab-2f06-4f51-9faf-1373b27c679c"
      },
      "execution_count": 103,
      "outputs": [
        {
          "output_type": "execute_result",
          "data": {
            "text/plain": [
              "tensor(0.7500)"
            ]
          },
          "metadata": {},
          "execution_count": 103
        }
      ]
    },
    {
      "cell_type": "code",
      "source": [
        "def validate_epoch(model):\n",
        "    accs = [batch_accuracy(model(xb), yb) for xb,yb in valid_dl]\n",
        "    return round(torch.stack(accs).mean().item(), 4)"
      ],
      "metadata": {
        "id": "Xu76sMCsBwV6"
      },
      "execution_count": 104,
      "outputs": []
    },
    {
      "cell_type": "code",
      "source": [
        "validate_epoch(linear1)"
      ],
      "metadata": {
        "colab": {
          "base_uri": "https://localhost:8080/"
        },
        "id": "r3vlHXJkB0Fn",
        "outputId": "c1405e0a-212e-4494-b7c9-733fe3705dea"
      },
      "execution_count": 105,
      "outputs": [
        {
          "output_type": "execute_result",
          "data": {
            "text/plain": [
              "0.5949"
            ]
          },
          "metadata": {},
          "execution_count": 105
        }
      ]
    },
    {
      "cell_type": "code",
      "source": [
        "lr = 1.\n",
        "params = weights,bias\n",
        "train_epoch(linear1, lr, params)\n",
        "validate_epoch(linear1)"
      ],
      "metadata": {
        "colab": {
          "base_uri": "https://localhost:8080/"
        },
        "id": "KlCDdMFoB-x5",
        "outputId": "95d4004f-c731-464b-828f-0432cab809a1"
      },
      "execution_count": 106,
      "outputs": [
        {
          "output_type": "execute_result",
          "data": {
            "text/plain": [
              "0.7049"
            ]
          },
          "metadata": {},
          "execution_count": 106
        }
      ]
    },
    {
      "cell_type": "code",
      "source": [
        "for i in range(20):\n",
        "    train_epoch(linear1, lr, params)\n",
        "    print(validate_epoch(linear1), end=' ')"
      ],
      "metadata": {
        "colab": {
          "base_uri": "https://localhost:8080/"
        },
        "id": "YbQA-XlHCGwo",
        "outputId": "88182bbc-c423-49a8-aa68-2429cccb745f"
      },
      "execution_count": 110,
      "outputs": [
        {
          "output_type": "stream",
          "name": "stdout",
          "text": [
            "0.9814 0.9814 0.9814 0.9814 0.9814 0.9814 0.9814 0.9814 0.9814 0.9814 0.9814 0.9814 0.9819 0.9824 0.9824 0.9824 0.9824 0.9824 0.9824 0.9824 "
          ]
        }
      ]
    },
    {
      "cell_type": "code",
      "source": [
        "linear_model = nn.Linear(28*28,1)"
      ],
      "metadata": {
        "id": "v3wa_G1CCxgF"
      },
      "execution_count": 111,
      "outputs": []
    },
    {
      "cell_type": "code",
      "source": [
        "w,b = linear_model.parameters()\n",
        "w.shape,b.shape"
      ],
      "metadata": {
        "colab": {
          "base_uri": "https://localhost:8080/"
        },
        "id": "hlw9zCU3C2NZ",
        "outputId": "a94b65a2-4126-44e6-a54f-035e6c0f9da0"
      },
      "execution_count": 112,
      "outputs": [
        {
          "output_type": "execute_result",
          "data": {
            "text/plain": [
              "(torch.Size([1, 784]), torch.Size([1]))"
            ]
          },
          "metadata": {},
          "execution_count": 112
        }
      ]
    },
    {
      "cell_type": "code",
      "source": [
        "# Mucking around\n",
        "w_t = tensor(w)\n",
        "w_t_r = w.reshape(1,28,28)\n",
        "df = pd.DataFrame(w_t_r[0,4:15,4:22])\n",
        "df.style.set_properties(**{'font-size':'6pt'}).background_gradient('Greys')"
      ],
      "metadata": {
        "colab": {
          "base_uri": "https://localhost:8080/",
          "height": 394
        },
        "id": "LtuAwKDNDlye",
        "outputId": "03a260a0-b8af-4d2d-81a5-6863d52b039c"
      },
      "execution_count": 119,
      "outputs": [
        {
          "output_type": "execute_result",
          "data": {
            "text/plain": [
              "<pandas.io.formats.style.Styler at 0x7fee1fe4a750>"
            ],
            "text/html": [
              "<style type=\"text/css\">\n",
              "#T_2ba86_row0_col0 {\n",
              "  font-size: 6pt;\n",
              "  background-color: #b3b3b3;\n",
              "  color: #000000;\n",
              "}\n",
              "#T_2ba86_row0_col1, #T_2ba86_row1_col4 {\n",
              "  font-size: 6pt;\n",
              "  background-color: #282828;\n",
              "  color: #f1f1f1;\n",
              "}\n",
              "#T_2ba86_row0_col2 {\n",
              "  font-size: 6pt;\n",
              "  background-color: #b9b9b9;\n",
              "  color: #000000;\n",
              "}\n",
              "#T_2ba86_row0_col3, #T_2ba86_row0_col7, #T_2ba86_row0_col10, #T_2ba86_row0_col15, #T_2ba86_row1_col1, #T_2ba86_row1_col13, #T_2ba86_row1_col16, #T_2ba86_row2_col4, #T_2ba86_row3_col11, #T_2ba86_row6_col0, #T_2ba86_row6_col17, #T_2ba86_row8_col5, #T_2ba86_row8_col6, #T_2ba86_row8_col12, #T_2ba86_row9_col8, #T_2ba86_row9_col9, #T_2ba86_row9_col14, #T_2ba86_row10_col2 {\n",
              "  font-size: 6pt;\n",
              "  background-color: #000000;\n",
              "  color: #f1f1f1;\n",
              "}\n",
              "#T_2ba86_row0_col4 {\n",
              "  font-size: 6pt;\n",
              "  background-color: #939393;\n",
              "  color: #f1f1f1;\n",
              "}\n",
              "#T_2ba86_row0_col5 {\n",
              "  font-size: 6pt;\n",
              "  background-color: #7b7b7b;\n",
              "  color: #f1f1f1;\n",
              "}\n",
              "#T_2ba86_row0_col6 {\n",
              "  font-size: 6pt;\n",
              "  background-color: #2c2c2c;\n",
              "  color: #f1f1f1;\n",
              "}\n",
              "#T_2ba86_row0_col8, #T_2ba86_row6_col16, #T_2ba86_row7_col0 {\n",
              "  font-size: 6pt;\n",
              "  background-color: #c5c5c5;\n",
              "  color: #000000;\n",
              "}\n",
              "#T_2ba86_row0_col9, #T_2ba86_row2_col7 {\n",
              "  font-size: 6pt;\n",
              "  background-color: #626262;\n",
              "  color: #f1f1f1;\n",
              "}\n",
              "#T_2ba86_row0_col11 {\n",
              "  font-size: 6pt;\n",
              "  background-color: #878787;\n",
              "  color: #f1f1f1;\n",
              "}\n",
              "#T_2ba86_row0_col12 {\n",
              "  font-size: 6pt;\n",
              "  background-color: #1c1c1c;\n",
              "  color: #f1f1f1;\n",
              "}\n",
              "#T_2ba86_row0_col13 {\n",
              "  font-size: 6pt;\n",
              "  background-color: #383838;\n",
              "  color: #f1f1f1;\n",
              "}\n",
              "#T_2ba86_row0_col14 {\n",
              "  font-size: 6pt;\n",
              "  background-color: #6b6b6b;\n",
              "  color: #f1f1f1;\n",
              "}\n",
              "#T_2ba86_row0_col16, #T_2ba86_row6_col2 {\n",
              "  font-size: 6pt;\n",
              "  background-color: #545454;\n",
              "  color: #f1f1f1;\n",
              "}\n",
              "#T_2ba86_row0_col17, #T_2ba86_row1_col6, #T_2ba86_row1_col14, #T_2ba86_row10_col0 {\n",
              "  font-size: 6pt;\n",
              "  background-color: #818181;\n",
              "  color: #f1f1f1;\n",
              "}\n",
              "#T_2ba86_row1_col0, #T_2ba86_row5_col15, #T_2ba86_row7_col3 {\n",
              "  font-size: 6pt;\n",
              "  background-color: #f5f5f5;\n",
              "  color: #000000;\n",
              "}\n",
              "#T_2ba86_row1_col2, #T_2ba86_row8_col0, #T_2ba86_row10_col8 {\n",
              "  font-size: 6pt;\n",
              "  background-color: #f1f1f1;\n",
              "  color: #000000;\n",
              "}\n",
              "#T_2ba86_row1_col3 {\n",
              "  font-size: 6pt;\n",
              "  background-color: #666666;\n",
              "  color: #f1f1f1;\n",
              "}\n",
              "#T_2ba86_row1_col5, #T_2ba86_row1_col15, #T_2ba86_row2_col12, #T_2ba86_row3_col0, #T_2ba86_row3_col1, #T_2ba86_row3_col2, #T_2ba86_row3_col7, #T_2ba86_row3_col14, #T_2ba86_row4_col13, #T_2ba86_row4_col17, #T_2ba86_row5_col6, #T_2ba86_row5_col9, #T_2ba86_row6_col3, #T_2ba86_row6_col4, #T_2ba86_row6_col8, #T_2ba86_row6_col10, #T_2ba86_row8_col4, #T_2ba86_row9_col16, #T_2ba86_row10_col10, #T_2ba86_row10_col11 {\n",
              "  font-size: 6pt;\n",
              "  background-color: #ffffff;\n",
              "  color: #000000;\n",
              "}\n",
              "#T_2ba86_row1_col7, #T_2ba86_row5_col10, #T_2ba86_row5_col11 {\n",
              "  font-size: 6pt;\n",
              "  background-color: #767676;\n",
              "  color: #f1f1f1;\n",
              "}\n",
              "#T_2ba86_row1_col8 {\n",
              "  font-size: 6pt;\n",
              "  background-color: #222222;\n",
              "  color: #f1f1f1;\n",
              "}\n",
              "#T_2ba86_row1_col9 {\n",
              "  font-size: 6pt;\n",
              "  background-color: #eaeaea;\n",
              "  color: #000000;\n",
              "}\n",
              "#T_2ba86_row1_col10 {\n",
              "  font-size: 6pt;\n",
              "  background-color: #1e1e1e;\n",
              "  color: #f1f1f1;\n",
              "}\n",
              "#T_2ba86_row1_col11, #T_2ba86_row9_col7 {\n",
              "  font-size: 6pt;\n",
              "  background-color: #484848;\n",
              "  color: #f1f1f1;\n",
              "}\n",
              "#T_2ba86_row1_col12 {\n",
              "  font-size: 6pt;\n",
              "  background-color: #363636;\n",
              "  color: #f1f1f1;\n",
              "}\n",
              "#T_2ba86_row1_col17 {\n",
              "  font-size: 6pt;\n",
              "  background-color: #838383;\n",
              "  color: #f1f1f1;\n",
              "}\n",
              "#T_2ba86_row2_col0, #T_2ba86_row7_col8 {\n",
              "  font-size: 6pt;\n",
              "  background-color: #cfcfcf;\n",
              "  color: #000000;\n",
              "}\n",
              "#T_2ba86_row2_col1, #T_2ba86_row3_col3 {\n",
              "  font-size: 6pt;\n",
              "  background-color: #c6c6c6;\n",
              "  color: #000000;\n",
              "}\n",
              "#T_2ba86_row2_col2 {\n",
              "  font-size: 6pt;\n",
              "  background-color: #181818;\n",
              "  color: #f1f1f1;\n",
              "}\n",
              "#T_2ba86_row2_col3, #T_2ba86_row6_col6, #T_2ba86_row8_col17 {\n",
              "  font-size: 6pt;\n",
              "  background-color: #5c5c5c;\n",
              "  color: #f1f1f1;\n",
              "}\n",
              "#T_2ba86_row2_col5 {\n",
              "  font-size: 6pt;\n",
              "  background-color: #686868;\n",
              "  color: #f1f1f1;\n",
              "}\n",
              "#T_2ba86_row2_col6, #T_2ba86_row10_col9 {\n",
              "  font-size: 6pt;\n",
              "  background-color: #fbfbfb;\n",
              "  color: #000000;\n",
              "}\n",
              "#T_2ba86_row2_col8 {\n",
              "  font-size: 6pt;\n",
              "  background-color: #232323;\n",
              "  color: #f1f1f1;\n",
              "}\n",
              "#T_2ba86_row2_col9 {\n",
              "  font-size: 6pt;\n",
              "  background-color: #323232;\n",
              "  color: #f1f1f1;\n",
              "}\n",
              "#T_2ba86_row2_col10 {\n",
              "  font-size: 6pt;\n",
              "  background-color: #5a5a5a;\n",
              "  color: #f1f1f1;\n",
              "}\n",
              "#T_2ba86_row2_col11 {\n",
              "  font-size: 6pt;\n",
              "  background-color: #dedede;\n",
              "  color: #000000;\n",
              "}\n",
              "#T_2ba86_row2_col13, #T_2ba86_row4_col0 {\n",
              "  font-size: 6pt;\n",
              "  background-color: #ececec;\n",
              "  color: #000000;\n",
              "}\n",
              "#T_2ba86_row2_col14 {\n",
              "  font-size: 6pt;\n",
              "  background-color: #404040;\n",
              "  color: #f1f1f1;\n",
              "}\n",
              "#T_2ba86_row2_col15 {\n",
              "  font-size: 6pt;\n",
              "  background-color: #b5b5b5;\n",
              "  color: #000000;\n",
              "}\n",
              "#T_2ba86_row2_col16 {\n",
              "  font-size: 6pt;\n",
              "  background-color: #2f2f2f;\n",
              "  color: #f1f1f1;\n",
              "}\n",
              "#T_2ba86_row2_col17 {\n",
              "  font-size: 6pt;\n",
              "  background-color: #636363;\n",
              "  color: #f1f1f1;\n",
              "}\n",
              "#T_2ba86_row3_col4 {\n",
              "  font-size: 6pt;\n",
              "  background-color: #9d9d9d;\n",
              "  color: #f1f1f1;\n",
              "}\n",
              "#T_2ba86_row3_col5 {\n",
              "  font-size: 6pt;\n",
              "  background-color: #868686;\n",
              "  color: #f1f1f1;\n",
              "}\n",
              "#T_2ba86_row3_col6, #T_2ba86_row4_col3 {\n",
              "  font-size: 6pt;\n",
              "  background-color: #414141;\n",
              "  color: #f1f1f1;\n",
              "}\n",
              "#T_2ba86_row3_col8 {\n",
              "  font-size: 6pt;\n",
              "  background-color: #898989;\n",
              "  color: #f1f1f1;\n",
              "}\n",
              "#T_2ba86_row3_col9 {\n",
              "  font-size: 6pt;\n",
              "  background-color: #919191;\n",
              "  color: #f1f1f1;\n",
              "}\n",
              "#T_2ba86_row3_col10, #T_2ba86_row9_col3 {\n",
              "  font-size: 6pt;\n",
              "  background-color: #606060;\n",
              "  color: #f1f1f1;\n",
              "}\n",
              "#T_2ba86_row3_col12 {\n",
              "  font-size: 6pt;\n",
              "  background-color: #292929;\n",
              "  color: #f1f1f1;\n",
              "}\n",
              "#T_2ba86_row3_col13 {\n",
              "  font-size: 6pt;\n",
              "  background-color: #eeeeee;\n",
              "  color: #000000;\n",
              "}\n",
              "#T_2ba86_row3_col15, #T_2ba86_row8_col13 {\n",
              "  font-size: 6pt;\n",
              "  background-color: #8e8e8e;\n",
              "  color: #f1f1f1;\n",
              "}\n",
              "#T_2ba86_row3_col16 {\n",
              "  font-size: 6pt;\n",
              "  background-color: #e3e3e3;\n",
              "  color: #000000;\n",
              "}\n",
              "#T_2ba86_row3_col17 {\n",
              "  font-size: 6pt;\n",
              "  background-color: #555555;\n",
              "  color: #f1f1f1;\n",
              "}\n",
              "#T_2ba86_row4_col1 {\n",
              "  font-size: 6pt;\n",
              "  background-color: #f9f9f9;\n",
              "  color: #000000;\n",
              "}\n",
              "#T_2ba86_row4_col2, #T_2ba86_row8_col2 {\n",
              "  font-size: 6pt;\n",
              "  background-color: #d4d4d4;\n",
              "  color: #000000;\n",
              "}\n",
              "#T_2ba86_row4_col4, #T_2ba86_row9_col13 {\n",
              "  font-size: 6pt;\n",
              "  background-color: #0f0f0f;\n",
              "  color: #f1f1f1;\n",
              "}\n",
              "#T_2ba86_row4_col5 {\n",
              "  font-size: 6pt;\n",
              "  background-color: #212121;\n",
              "  color: #f1f1f1;\n",
              "}\n",
              "#T_2ba86_row4_col6, #T_2ba86_row4_col14, #T_2ba86_row7_col14, #T_2ba86_row9_col2 {\n",
              "  font-size: 6pt;\n",
              "  background-color: #999999;\n",
              "  color: #f1f1f1;\n",
              "}\n",
              "#T_2ba86_row4_col7 {\n",
              "  font-size: 6pt;\n",
              "  background-color: #0a0a0a;\n",
              "  color: #f1f1f1;\n",
              "}\n",
              "#T_2ba86_row4_col8 {\n",
              "  font-size: 6pt;\n",
              "  background-color: #dfdfdf;\n",
              "  color: #000000;\n",
              "}\n",
              "#T_2ba86_row4_col9 {\n",
              "  font-size: 6pt;\n",
              "  background-color: #a3a3a3;\n",
              "  color: #f1f1f1;\n",
              "}\n",
              "#T_2ba86_row4_col10 {\n",
              "  font-size: 6pt;\n",
              "  background-color: #959595;\n",
              "  color: #f1f1f1;\n",
              "}\n",
              "#T_2ba86_row4_col11 {\n",
              "  font-size: 6pt;\n",
              "  background-color: #1a1a1a;\n",
              "  color: #f1f1f1;\n",
              "}\n",
              "#T_2ba86_row4_col12 {\n",
              "  font-size: 6pt;\n",
              "  background-color: #303030;\n",
              "  color: #f1f1f1;\n",
              "}\n",
              "#T_2ba86_row4_col15, #T_2ba86_row5_col3, #T_2ba86_row9_col12 {\n",
              "  font-size: 6pt;\n",
              "  background-color: #dcdcdc;\n",
              "  color: #000000;\n",
              "}\n",
              "#T_2ba86_row4_col16 {\n",
              "  font-size: 6pt;\n",
              "  background-color: #aeaeae;\n",
              "  color: #000000;\n",
              "}\n",
              "#T_2ba86_row5_col0 {\n",
              "  font-size: 6pt;\n",
              "  background-color: #4d4d4d;\n",
              "  color: #f1f1f1;\n",
              "}\n",
              "#T_2ba86_row5_col1, #T_2ba86_row5_col2, #T_2ba86_row9_col5 {\n",
              "  font-size: 6pt;\n",
              "  background-color: #f8f8f8;\n",
              "  color: #000000;\n",
              "}\n",
              "#T_2ba86_row5_col4 {\n",
              "  font-size: 6pt;\n",
              "  background-color: #393939;\n",
              "  color: #f1f1f1;\n",
              "}\n",
              "#T_2ba86_row5_col5, #T_2ba86_row7_col13 {\n",
              "  font-size: 6pt;\n",
              "  background-color: #646464;\n",
              "  color: #f1f1f1;\n",
              "}\n",
              "#T_2ba86_row5_col7 {\n",
              "  font-size: 6pt;\n",
              "  background-color: #c0c0c0;\n",
              "  color: #000000;\n",
              "}\n",
              "#T_2ba86_row5_col8 {\n",
              "  font-size: 6pt;\n",
              "  background-color: #e6e6e6;\n",
              "  color: #000000;\n",
              "}\n",
              "#T_2ba86_row5_col12 {\n",
              "  font-size: 6pt;\n",
              "  background-color: #b0b0b0;\n",
              "  color: #000000;\n",
              "}\n",
              "#T_2ba86_row5_col13 {\n",
              "  font-size: 6pt;\n",
              "  background-color: #dddddd;\n",
              "  color: #000000;\n",
              "}\n",
              "#T_2ba86_row5_col14 {\n",
              "  font-size: 6pt;\n",
              "  background-color: #9c9c9c;\n",
              "  color: #f1f1f1;\n",
              "}\n",
              "#T_2ba86_row5_col16, #T_2ba86_row6_col5, #T_2ba86_row6_col13, #T_2ba86_row7_col16 {\n",
              "  font-size: 6pt;\n",
              "  background-color: #f0f0f0;\n",
              "  color: #000000;\n",
              "}\n",
              "#T_2ba86_row5_col17 {\n",
              "  font-size: 6pt;\n",
              "  background-color: #989898;\n",
              "  color: #f1f1f1;\n",
              "}\n",
              "#T_2ba86_row6_col1 {\n",
              "  font-size: 6pt;\n",
              "  background-color: #272727;\n",
              "  color: #f1f1f1;\n",
              "}\n",
              "#T_2ba86_row6_col7 {\n",
              "  font-size: 6pt;\n",
              "  background-color: #fefefe;\n",
              "  color: #000000;\n",
              "}\n",
              "#T_2ba86_row6_col9 {\n",
              "  font-size: 6pt;\n",
              "  background-color: #dbdbdb;\n",
              "  color: #000000;\n",
              "}\n",
              "#T_2ba86_row6_col11 {\n",
              "  font-size: 6pt;\n",
              "  background-color: #b4b4b4;\n",
              "  color: #000000;\n",
              "}\n",
              "#T_2ba86_row6_col12 {\n",
              "  font-size: 6pt;\n",
              "  background-color: #7a7a7a;\n",
              "  color: #f1f1f1;\n",
              "}\n",
              "#T_2ba86_row6_col14 {\n",
              "  font-size: 6pt;\n",
              "  background-color: #242424;\n",
              "  color: #f1f1f1;\n",
              "}\n",
              "#T_2ba86_row6_col15 {\n",
              "  font-size: 6pt;\n",
              "  background-color: #afafaf;\n",
              "  color: #000000;\n",
              "}\n",
              "#T_2ba86_row7_col1 {\n",
              "  font-size: 6pt;\n",
              "  background-color: #7e7e7e;\n",
              "  color: #f1f1f1;\n",
              "}\n",
              "#T_2ba86_row7_col2, #T_2ba86_row7_col5, #T_2ba86_row7_col6, #T_2ba86_row8_col14, #T_2ba86_row10_col3 {\n",
              "  font-size: 6pt;\n",
              "  background-color: #f2f2f2;\n",
              "  color: #000000;\n",
              "}\n",
              "#T_2ba86_row7_col4 {\n",
              "  font-size: 6pt;\n",
              "  background-color: #797979;\n",
              "  color: #f1f1f1;\n",
              "}\n",
              "#T_2ba86_row7_col7, #T_2ba86_row7_col15 {\n",
              "  font-size: 6pt;\n",
              "  background-color: #f6f6f6;\n",
              "  color: #000000;\n",
              "}\n",
              "#T_2ba86_row7_col9 {\n",
              "  font-size: 6pt;\n",
              "  background-color: #020202;\n",
              "  color: #f1f1f1;\n",
              "}\n",
              "#T_2ba86_row7_col10 {\n",
              "  font-size: 6pt;\n",
              "  background-color: #4b4b4b;\n",
              "  color: #f1f1f1;\n",
              "}\n",
              "#T_2ba86_row7_col11 {\n",
              "  font-size: 6pt;\n",
              "  background-color: #c7c7c7;\n",
              "  color: #000000;\n",
              "}\n",
              "#T_2ba86_row7_col12 {\n",
              "  font-size: 6pt;\n",
              "  background-color: #707070;\n",
              "  color: #f1f1f1;\n",
              "}\n",
              "#T_2ba86_row7_col17 {\n",
              "  font-size: 6pt;\n",
              "  background-color: #f7f7f7;\n",
              "  color: #000000;\n",
              "}\n",
              "#T_2ba86_row8_col1 {\n",
              "  font-size: 6pt;\n",
              "  background-color: #c9c9c9;\n",
              "  color: #000000;\n",
              "}\n",
              "#T_2ba86_row8_col3 {\n",
              "  font-size: 6pt;\n",
              "  background-color: #b6b6b6;\n",
              "  color: #000000;\n",
              "}\n",
              "#T_2ba86_row8_col7 {\n",
              "  font-size: 6pt;\n",
              "  background-color: #bbbbbb;\n",
              "  color: #000000;\n",
              "}\n",
              "#T_2ba86_row8_col8 {\n",
              "  font-size: 6pt;\n",
              "  background-color: #757575;\n",
              "  color: #f1f1f1;\n",
              "}\n",
              "#T_2ba86_row8_col9 {\n",
              "  font-size: 6pt;\n",
              "  background-color: #a8a8a8;\n",
              "  color: #f1f1f1;\n",
              "}\n",
              "#T_2ba86_row8_col10 {\n",
              "  font-size: 6pt;\n",
              "  background-color: #909090;\n",
              "  color: #f1f1f1;\n",
              "}\n",
              "#T_2ba86_row8_col11, #T_2ba86_row8_col15 {\n",
              "  font-size: 6pt;\n",
              "  background-color: #aaaaaa;\n",
              "  color: #f1f1f1;\n",
              "}\n",
              "#T_2ba86_row8_col16 {\n",
              "  font-size: 6pt;\n",
              "  background-color: #2e2e2e;\n",
              "  color: #f1f1f1;\n",
              "}\n",
              "#T_2ba86_row9_col0 {\n",
              "  font-size: 6pt;\n",
              "  background-color: #1d1d1d;\n",
              "  color: #f1f1f1;\n",
              "}\n",
              "#T_2ba86_row9_col1 {\n",
              "  font-size: 6pt;\n",
              "  background-color: #333333;\n",
              "  color: #f1f1f1;\n",
              "}\n",
              "#T_2ba86_row9_col4 {\n",
              "  font-size: 6pt;\n",
              "  background-color: #828282;\n",
              "  color: #f1f1f1;\n",
              "}\n",
              "#T_2ba86_row9_col6 {\n",
              "  font-size: 6pt;\n",
              "  background-color: #858585;\n",
              "  color: #f1f1f1;\n",
              "}\n",
              "#T_2ba86_row9_col10 {\n",
              "  font-size: 6pt;\n",
              "  background-color: #6a6a6a;\n",
              "  color: #f1f1f1;\n",
              "}\n",
              "#T_2ba86_row9_col11 {\n",
              "  font-size: 6pt;\n",
              "  background-color: #111111;\n",
              "  color: #f1f1f1;\n",
              "}\n",
              "#T_2ba86_row9_col15 {\n",
              "  font-size: 6pt;\n",
              "  background-color: #616161;\n",
              "  color: #f1f1f1;\n",
              "}\n",
              "#T_2ba86_row9_col17 {\n",
              "  font-size: 6pt;\n",
              "  background-color: #cdcdcd;\n",
              "  color: #000000;\n",
              "}\n",
              "#T_2ba86_row10_col1 {\n",
              "  font-size: 6pt;\n",
              "  background-color: #090909;\n",
              "  color: #f1f1f1;\n",
              "}\n",
              "#T_2ba86_row10_col4 {\n",
              "  font-size: 6pt;\n",
              "  background-color: #464646;\n",
              "  color: #f1f1f1;\n",
              "}\n",
              "#T_2ba86_row10_col5 {\n",
              "  font-size: 6pt;\n",
              "  background-color: #d3d3d3;\n",
              "  color: #000000;\n",
              "}\n",
              "#T_2ba86_row10_col6 {\n",
              "  font-size: 6pt;\n",
              "  background-color: #f3f3f3;\n",
              "  color: #000000;\n",
              "}\n",
              "#T_2ba86_row10_col7 {\n",
              "  font-size: 6pt;\n",
              "  background-color: #060606;\n",
              "  color: #f1f1f1;\n",
              "}\n",
              "#T_2ba86_row10_col12 {\n",
              "  font-size: 6pt;\n",
              "  background-color: #070707;\n",
              "  color: #f1f1f1;\n",
              "}\n",
              "#T_2ba86_row10_col13 {\n",
              "  font-size: 6pt;\n",
              "  background-color: #4a4a4a;\n",
              "  color: #f1f1f1;\n",
              "}\n",
              "#T_2ba86_row10_col14 {\n",
              "  font-size: 6pt;\n",
              "  background-color: #d9d9d9;\n",
              "  color: #000000;\n",
              "}\n",
              "#T_2ba86_row10_col15 {\n",
              "  font-size: 6pt;\n",
              "  background-color: #e4e4e4;\n",
              "  color: #000000;\n",
              "}\n",
              "#T_2ba86_row10_col16 {\n",
              "  font-size: 6pt;\n",
              "  background-color: #fdfdfd;\n",
              "  color: #000000;\n",
              "}\n",
              "#T_2ba86_row10_col17 {\n",
              "  font-size: 6pt;\n",
              "  background-color: #efefef;\n",
              "  color: #000000;\n",
              "}\n",
              "</style>\n",
              "<table id=\"T_2ba86_\" class=\"dataframe\">\n",
              "  <thead>\n",
              "    <tr>\n",
              "      <th class=\"blank level0\" >&nbsp;</th>\n",
              "      <th class=\"col_heading level0 col0\" >0</th>\n",
              "      <th class=\"col_heading level0 col1\" >1</th>\n",
              "      <th class=\"col_heading level0 col2\" >2</th>\n",
              "      <th class=\"col_heading level0 col3\" >3</th>\n",
              "      <th class=\"col_heading level0 col4\" >4</th>\n",
              "      <th class=\"col_heading level0 col5\" >5</th>\n",
              "      <th class=\"col_heading level0 col6\" >6</th>\n",
              "      <th class=\"col_heading level0 col7\" >7</th>\n",
              "      <th class=\"col_heading level0 col8\" >8</th>\n",
              "      <th class=\"col_heading level0 col9\" >9</th>\n",
              "      <th class=\"col_heading level0 col10\" >10</th>\n",
              "      <th class=\"col_heading level0 col11\" >11</th>\n",
              "      <th class=\"col_heading level0 col12\" >12</th>\n",
              "      <th class=\"col_heading level0 col13\" >13</th>\n",
              "      <th class=\"col_heading level0 col14\" >14</th>\n",
              "      <th class=\"col_heading level0 col15\" >15</th>\n",
              "      <th class=\"col_heading level0 col16\" >16</th>\n",
              "      <th class=\"col_heading level0 col17\" >17</th>\n",
              "    </tr>\n",
              "  </thead>\n",
              "  <tbody>\n",
              "    <tr>\n",
              "      <th id=\"T_2ba86_level0_row0\" class=\"row_heading level0 row0\" >0</th>\n",
              "      <td id=\"T_2ba86_row0_col0\" class=\"data row0 col0\" >-0.007048</td>\n",
              "      <td id=\"T_2ba86_row0_col1\" class=\"data row0 col1\" >0.017358</td>\n",
              "      <td id=\"T_2ba86_row0_col2\" class=\"data row0 col2\" >-0.000821</td>\n",
              "      <td id=\"T_2ba86_row0_col3\" class=\"data row0 col3\" >0.030543</td>\n",
              "      <td id=\"T_2ba86_row0_col4\" class=\"data row0 col4\" >-0.002062</td>\n",
              "      <td id=\"T_2ba86_row0_col5\" class=\"data row0 col5\" >-0.005123</td>\n",
              "      <td id=\"T_2ba86_row0_col6\" class=\"data row0 col6\" >0.020159</td>\n",
              "      <td id=\"T_2ba86_row0_col7\" class=\"data row0 col7\" >-0.000924</td>\n",
              "      <td id=\"T_2ba86_row0_col8\" class=\"data row0 col8\" >-0.007128</td>\n",
              "      <td id=\"T_2ba86_row0_col9\" class=\"data row0 col9\" >0.011937</td>\n",
              "      <td id=\"T_2ba86_row0_col10\" class=\"data row0 col10\" >0.028165</td>\n",
              "      <td id=\"T_2ba86_row0_col11\" class=\"data row0 col11\" >0.008912</td>\n",
              "      <td id=\"T_2ba86_row0_col12\" class=\"data row0 col12\" >0.024869</td>\n",
              "      <td id=\"T_2ba86_row0_col13\" class=\"data row0 col13\" >0.023144</td>\n",
              "      <td id=\"T_2ba86_row0_col14\" class=\"data row0 col14\" >0.010100</td>\n",
              "      <td id=\"T_2ba86_row0_col15\" class=\"data row0 col15\" >0.012417</td>\n",
              "      <td id=\"T_2ba86_row0_col16\" class=\"data row0 col16\" >0.011524</td>\n",
              "      <td id=\"T_2ba86_row0_col17\" class=\"data row0 col17\" >0.003705</td>\n",
              "    </tr>\n",
              "    <tr>\n",
              "      <th id=\"T_2ba86_level0_row1\" class=\"row_heading level0 row1\" >1</th>\n",
              "      <td id=\"T_2ba86_row1_col0\" class=\"data row1 col0\" >-0.026646</td>\n",
              "      <td id=\"T_2ba86_row1_col1\" class=\"data row1 col1\" >0.025476</td>\n",
              "      <td id=\"T_2ba86_row1_col2\" class=\"data row1 col2\" >-0.015616</td>\n",
              "      <td id=\"T_2ba86_row1_col3\" class=\"data row1 col3\" >0.009397</td>\n",
              "      <td id=\"T_2ba86_row1_col4\" class=\"data row1 col4\" >0.020234</td>\n",
              "      <td id=\"T_2ba86_row1_col5\" class=\"data row1 col5\" >-0.033376</td>\n",
              "      <td id=\"T_2ba86_row1_col6\" class=\"data row1 col6\" >0.002370</td>\n",
              "      <td id=\"T_2ba86_row1_col7\" class=\"data row1 col7\" >-0.012687</td>\n",
              "      <td id=\"T_2ba86_row1_col8\" class=\"data row1 col8\" >0.025348</td>\n",
              "      <td id=\"T_2ba86_row1_col9\" class=\"data row1 col9\" >-0.022739</td>\n",
              "      <td id=\"T_2ba86_row1_col10\" class=\"data row1 col10\" >0.021685</td>\n",
              "      <td id=\"T_2ba86_row1_col11\" class=\"data row1 col11\" >0.022270</td>\n",
              "      <td id=\"T_2ba86_row1_col12\" class=\"data row1 col12\" >0.019704</td>\n",
              "      <td id=\"T_2ba86_row1_col13\" class=\"data row1 col13\" >0.034286</td>\n",
              "      <td id=\"T_2ba86_row1_col14\" class=\"data row1 col14\" >0.005409</td>\n",
              "      <td id=\"T_2ba86_row1_col15\" class=\"data row1 col15\" >-0.032371</td>\n",
              "      <td id=\"T_2ba86_row1_col16\" class=\"data row1 col16\" >0.025495</td>\n",
              "      <td id=\"T_2ba86_row1_col17\" class=\"data row1 col17\" >0.003270</td>\n",
              "    </tr>\n",
              "    <tr>\n",
              "      <th id=\"T_2ba86_level0_row2\" class=\"row_heading level0 row2\" >2</th>\n",
              "      <td id=\"T_2ba86_row2_col0\" class=\"data row2 col0\" >-0.013977</td>\n",
              "      <td id=\"T_2ba86_row2_col1\" class=\"data row2 col1\" >-0.014317</td>\n",
              "      <td id=\"T_2ba86_row2_col2\" class=\"data row2 col2\" >0.027801</td>\n",
              "      <td id=\"T_2ba86_row2_col3\" class=\"data row2 col3\" >0.012135</td>\n",
              "      <td id=\"T_2ba86_row2_col4\" class=\"data row2 col4\" >0.028620</td>\n",
              "      <td id=\"T_2ba86_row2_col5\" class=\"data row2 col5\" >-0.001671</td>\n",
              "      <td id=\"T_2ba86_row2_col6\" class=\"data row2 col6\" >-0.031837</td>\n",
              "      <td id=\"T_2ba86_row2_col7\" class=\"data row2 col7\" >-0.010362</td>\n",
              "      <td id=\"T_2ba86_row2_col8\" class=\"data row2 col8\" >0.025100</td>\n",
              "      <td id=\"T_2ba86_row2_col9\" class=\"data row2 col9\" >0.021743</td>\n",
              "      <td id=\"T_2ba86_row2_col10\" class=\"data row2 col10\" >0.011056</td>\n",
              "      <td id=\"T_2ba86_row2_col11\" class=\"data row2 col11\" >-0.010476</td>\n",
              "      <td id=\"T_2ba86_row2_col12\" class=\"data row2 col12\" >-0.033335</td>\n",
              "      <td id=\"T_2ba86_row2_col13\" class=\"data row2 col13\" >-0.019190</td>\n",
              "      <td id=\"T_2ba86_row2_col14\" class=\"data row2 col14\" >0.018621</td>\n",
              "      <td id=\"T_2ba86_row2_col15\" class=\"data row2 col15\" >-0.014406</td>\n",
              "      <td id=\"T_2ba86_row2_col16\" class=\"data row2 col16\" >0.017084</td>\n",
              "      <td id=\"T_2ba86_row2_col17\" class=\"data row2 col17\" >0.009751</td>\n",
              "    </tr>\n",
              "    <tr>\n",
              "      <th id=\"T_2ba86_level0_row3\" class=\"row_heading level0 row3\" >3</th>\n",
              "      <td id=\"T_2ba86_row3_col0\" class=\"data row3 col0\" >-0.032038</td>\n",
              "      <td id=\"T_2ba86_row3_col1\" class=\"data row3 col1\" >-0.034428</td>\n",
              "      <td id=\"T_2ba86_row3_col2\" class=\"data row3 col2\" >-0.022059</td>\n",
              "      <td id=\"T_2ba86_row3_col3\" class=\"data row3 col3\" >-0.012343</td>\n",
              "      <td id=\"T_2ba86_row3_col4\" class=\"data row3 col4\" >-0.003966</td>\n",
              "      <td id=\"T_2ba86_row3_col5\" class=\"data row3 col5\" >-0.006902</td>\n",
              "      <td id=\"T_2ba86_row3_col6\" class=\"data row3 col6\" >0.016300</td>\n",
              "      <td id=\"T_2ba86_row3_col7\" class=\"data row3 col7\" >-0.031344</td>\n",
              "      <td id=\"T_2ba86_row3_col8\" class=\"data row3 col8\" >0.005259</td>\n",
              "      <td id=\"T_2ba86_row3_col9\" class=\"data row3 col9\" >0.000618</td>\n",
              "      <td id=\"T_2ba86_row3_col10\" class=\"data row3 col10\" >0.009433</td>\n",
              "      <td id=\"T_2ba86_row3_col11\" class=\"data row3 col11\" >0.035503</td>\n",
              "      <td id=\"T_2ba86_row3_col12\" class=\"data row3 col12\" >0.021980</td>\n",
              "      <td id=\"T_2ba86_row3_col13\" class=\"data row3 col13\" >-0.019775</td>\n",
              "      <td id=\"T_2ba86_row3_col14\" class=\"data row3 col14\" >-0.029266</td>\n",
              "      <td id=\"T_2ba86_row3_col15\" class=\"data row3 col15\" >-0.008646</td>\n",
              "      <td id=\"T_2ba86_row3_col16\" class=\"data row3 col16\" >-0.017915</td>\n",
              "      <td id=\"T_2ba86_row3_col17\" class=\"data row3 col17\" >0.012475</td>\n",
              "    </tr>\n",
              "    <tr>\n",
              "      <th id=\"T_2ba86_level0_row4\" class=\"row_heading level0 row4\" >4</th>\n",
              "      <td id=\"T_2ba86_row4_col0\" class=\"data row4 col0\" >-0.022766</td>\n",
              "      <td id=\"T_2ba86_row4_col1\" class=\"data row4 col1\" >-0.031289</td>\n",
              "      <td id=\"T_2ba86_row4_col2\" class=\"data row4 col2\" >-0.007332</td>\n",
              "      <td id=\"T_2ba86_row4_col3\" class=\"data row4 col3\" >0.017404</td>\n",
              "      <td id=\"T_2ba86_row4_col4\" class=\"data row4 col4\" >0.025234</td>\n",
              "      <td id=\"T_2ba86_row4_col5\" class=\"data row4 col5\" >0.008962</td>\n",
              "      <td id=\"T_2ba86_row4_col6\" class=\"data row4 col6\" >-0.003087</td>\n",
              "      <td id=\"T_2ba86_row4_col7\" class=\"data row4 col7\" >-0.002002</td>\n",
              "      <td id=\"T_2ba86_row4_col8\" class=\"data row4 col8\" >-0.014478</td>\n",
              "      <td id=\"T_2ba86_row4_col9\" class=\"data row4 col9\" >-0.003205</td>\n",
              "      <td id=\"T_2ba86_row4_col10\" class=\"data row4 col10\" >-0.002468</td>\n",
              "      <td id=\"T_2ba86_row4_col11\" class=\"data row4 col11\" >0.030392</td>\n",
              "      <td id=\"T_2ba86_row4_col12\" class=\"data row4 col12\" >0.020902</td>\n",
              "      <td id=\"T_2ba86_row4_col13\" class=\"data row4 col13\" >-0.028579</td>\n",
              "      <td id=\"T_2ba86_row4_col14\" class=\"data row4 col14\" >0.000148</td>\n",
              "      <td id=\"T_2ba86_row4_col15\" class=\"data row4 col15\" >-0.021967</td>\n",
              "      <td id=\"T_2ba86_row4_col16\" class=\"data row4 col16\" >-0.005669</td>\n",
              "      <td id=\"T_2ba86_row4_col17\" class=\"data row4 col17\" >-0.028385</td>\n",
              "    </tr>\n",
              "    <tr>\n",
              "      <th id=\"T_2ba86_level0_row5\" class=\"row_heading level0 row5\" >5</th>\n",
              "      <td id=\"T_2ba86_row5_col0\" class=\"data row5 col0\" >0.014619</td>\n",
              "      <td id=\"T_2ba86_row5_col1\" class=\"data row5 col1\" >-0.030848</td>\n",
              "      <td id=\"T_2ba86_row5_col2\" class=\"data row5 col2\" >-0.018849</td>\n",
              "      <td id=\"T_2ba86_row5_col3\" class=\"data row5 col3\" >-0.018775</td>\n",
              "      <td id=\"T_2ba86_row5_col4\" class=\"data row5 col4\" >0.017282</td>\n",
              "      <td id=\"T_2ba86_row5_col5\" class=\"data row5 col5\" >-0.000935</td>\n",
              "      <td id=\"T_2ba86_row5_col6\" class=\"data row5 col6\" >-0.034322</td>\n",
              "      <td id=\"T_2ba86_row5_col7\" class=\"data row5 col7\" >-0.020397</td>\n",
              "      <td id=\"T_2ba86_row5_col8\" class=\"data row5 col8\" >-0.016528</td>\n",
              "      <td id=\"T_2ba86_row5_col9\" class=\"data row5 col9\" >-0.033137</td>\n",
              "      <td id=\"T_2ba86_row5_col10\" class=\"data row5 col10\" >0.004573</td>\n",
              "      <td id=\"T_2ba86_row5_col11\" class=\"data row5 col11\" >0.012726</td>\n",
              "      <td id=\"T_2ba86_row5_col12\" class=\"data row5 col12\" >-0.006553</td>\n",
              "      <td id=\"T_2ba86_row5_col13\" class=\"data row5 col13\" >-0.014212</td>\n",
              "      <td id=\"T_2ba86_row5_col14\" class=\"data row5 col14\" >-0.000217</td>\n",
              "      <td id=\"T_2ba86_row5_col15\" class=\"data row5 col15\" >-0.028367</td>\n",
              "      <td id=\"T_2ba86_row5_col16\" class=\"data row5 col16\" >-0.021746</td>\n",
              "      <td id=\"T_2ba86_row5_col17\" class=\"data row5 col17\" >-0.000815</td>\n",
              "    </tr>\n",
              "    <tr>\n",
              "      <th id=\"T_2ba86_level0_row6\" class=\"row_heading level0 row6\" >6</th>\n",
              "      <td id=\"T_2ba86_row6_col0\" class=\"data row6 col0\" >0.029212</td>\n",
              "      <td id=\"T_2ba86_row6_col1\" class=\"data row6 col1\" >0.017740</td>\n",
              "      <td id=\"T_2ba86_row6_col2\" class=\"data row6 col2\" >0.018394</td>\n",
              "      <td id=\"T_2ba86_row6_col3\" class=\"data row6 col3\" >-0.034000</td>\n",
              "      <td id=\"T_2ba86_row6_col4\" class=\"data row6 col4\" >-0.033560</td>\n",
              "      <td id=\"T_2ba86_row6_col5\" class=\"data row6 col5\" >-0.027412</td>\n",
              "      <td id=\"T_2ba86_row6_col6\" class=\"data row6 col6\" >0.011171</td>\n",
              "      <td id=\"T_2ba86_row6_col7\" class=\"data row6 col7\" >-0.030892</td>\n",
              "      <td id=\"T_2ba86_row6_col8\" class=\"data row6 col8\" >-0.027262</td>\n",
              "      <td id=\"T_2ba86_row6_col9\" class=\"data row6 col9\" >-0.017311</td>\n",
              "      <td id=\"T_2ba86_row6_col10\" class=\"data row6 col10\" >-0.032917</td>\n",
              "      <td id=\"T_2ba86_row6_col11\" class=\"data row6 col11\" >0.000048</td>\n",
              "      <td id=\"T_2ba86_row6_col12\" class=\"data row6 col12\" >0.005152</td>\n",
              "      <td id=\"T_2ba86_row6_col13\" class=\"data row6 col13\" >-0.020900</td>\n",
              "      <td id=\"T_2ba86_row6_col14\" class=\"data row6 col14\" >0.023384</td>\n",
              "      <td id=\"T_2ba86_row6_col15\" class=\"data row6 col15\" >-0.013559</td>\n",
              "      <td id=\"T_2ba86_row6_col16\" class=\"data row6 col16\" >-0.010055</td>\n",
              "      <td id=\"T_2ba86_row6_col17\" class=\"data row6 col17\" >0.027210</td>\n",
              "    </tr>\n",
              "    <tr>\n",
              "      <th id=\"T_2ba86_level0_row7\" class=\"row_heading level0 row7\" >7</th>\n",
              "      <td id=\"T_2ba86_row7_col0\" class=\"data row7 col0\" >-0.011363</td>\n",
              "      <td id=\"T_2ba86_row7_col1\" class=\"data row7 col1\" >0.000448</td>\n",
              "      <td id=\"T_2ba86_row7_col2\" class=\"data row7 col2\" >-0.016042</td>\n",
              "      <td id=\"T_2ba86_row7_col3\" class=\"data row7 col3\" >-0.028239</td>\n",
              "      <td id=\"T_2ba86_row7_col4\" class=\"data row7 col4\" >0.003764</td>\n",
              "      <td id=\"T_2ba86_row7_col5\" class=\"data row7 col5\" >-0.028348</td>\n",
              "      <td id=\"T_2ba86_row7_col6\" class=\"data row7 col6\" >-0.027426</td>\n",
              "      <td id=\"T_2ba86_row7_col7\" class=\"data row7 col7\" >-0.029034</td>\n",
              "      <td id=\"T_2ba86_row7_col8\" class=\"data row7 col8\" >-0.009678</td>\n",
              "      <td id=\"T_2ba86_row7_col9\" class=\"data row7 col9\" >0.031545</td>\n",
              "      <td id=\"T_2ba86_row7_col10\" class=\"data row7 col10\" >0.013961</td>\n",
              "      <td id=\"T_2ba86_row7_col11\" class=\"data row7 col11\" >-0.004235</td>\n",
              "      <td id=\"T_2ba86_row7_col12\" class=\"data row7 col12\" >0.007350</td>\n",
              "      <td id=\"T_2ba86_row7_col13\" class=\"data row7 col13\" >0.014222</td>\n",
              "      <td id=\"T_2ba86_row7_col14\" class=\"data row7 col14\" >0.000208</td>\n",
              "      <td id=\"T_2ba86_row7_col15\" class=\"data row7 col15\" >-0.028806</td>\n",
              "      <td id=\"T_2ba86_row7_col16\" class=\"data row7 col16\" >-0.022004</td>\n",
              "      <td id=\"T_2ba86_row7_col17\" class=\"data row7 col17\" >-0.024263</td>\n",
              "    </tr>\n",
              "    <tr>\n",
              "      <th id=\"T_2ba86_level0_row8\" class=\"row_heading level0 row8\" >8</th>\n",
              "      <td id=\"T_2ba86_row8_col0\" class=\"data row8 col0\" >-0.024676</td>\n",
              "      <td id=\"T_2ba86_row8_col1\" class=\"data row8 col1\" >-0.015232</td>\n",
              "      <td id=\"T_2ba86_row8_col2\" class=\"data row8 col2\" >-0.007174</td>\n",
              "      <td id=\"T_2ba86_row8_col3\" class=\"data row8 col3\" >-0.008391</td>\n",
              "      <td id=\"T_2ba86_row8_col4\" class=\"data row8 col4\" >-0.033832</td>\n",
              "      <td id=\"T_2ba86_row8_col5\" class=\"data row8 col5\" >0.014198</td>\n",
              "      <td id=\"T_2ba86_row8_col6\" class=\"data row8 col6\" >0.029410</td>\n",
              "      <td id=\"T_2ba86_row8_col7\" class=\"data row8 col7\" >-0.019699</td>\n",
              "      <td id=\"T_2ba86_row8_col8\" class=\"data row8 col8\" >0.009627</td>\n",
              "      <td id=\"T_2ba86_row8_col9\" class=\"data row8 col9\" >-0.004142</td>\n",
              "      <td id=\"T_2ba86_row8_col10\" class=\"data row8 col10\" >-0.001303</td>\n",
              "      <td id=\"T_2ba86_row8_col11\" class=\"data row8 col11\" >0.002082</td>\n",
              "      <td id=\"T_2ba86_row8_col12\" class=\"data row8 col12\" >0.030949</td>\n",
              "      <td id=\"T_2ba86_row8_col13\" class=\"data row8 col13\" >0.004785</td>\n",
              "      <td id=\"T_2ba86_row8_col14\" class=\"data row8 col14\" >-0.022596</td>\n",
              "      <td id=\"T_2ba86_row8_col15\" class=\"data row8 col15\" >-0.012847</td>\n",
              "      <td id=\"T_2ba86_row8_col16\" class=\"data row8 col16\" >0.017447</td>\n",
              "      <td id=\"T_2ba86_row8_col17\" class=\"data row8 col17\" >0.011145</td>\n",
              "    </tr>\n",
              "    <tr>\n",
              "      <th id=\"T_2ba86_level0_row9\" class=\"row_heading level0 row9\" >9</th>\n",
              "      <td id=\"T_2ba86_row9_col0\" class=\"data row9 col0\" >0.023082</td>\n",
              "      <td id=\"T_2ba86_row9_col1\" class=\"data row9 col1\" >0.015535</td>\n",
              "      <td id=\"T_2ba86_row9_col2\" class=\"data row9 col2\" >0.004589</td>\n",
              "      <td id=\"T_2ba86_row9_col3\" class=\"data row9 col3\" >0.010974</td>\n",
              "      <td id=\"T_2ba86_row9_col4\" class=\"data row9 col4\" >0.001854</td>\n",
              "      <td id=\"T_2ba86_row9_col5\" class=\"data row9 col5\" >-0.030635</td>\n",
              "      <td id=\"T_2ba86_row9_col6\" class=\"data row9 col6\" >0.001377</td>\n",
              "      <td id=\"T_2ba86_row9_col7\" class=\"data row9 col7\" >-0.007806</td>\n",
              "      <td id=\"T_2ba86_row9_col8\" class=\"data row9 col8\" >0.032229</td>\n",
              "      <td id=\"T_2ba86_row9_col9\" class=\"data row9 col9\" >0.032237</td>\n",
              "      <td id=\"T_2ba86_row9_col10\" class=\"data row9 col10\" >0.007085</td>\n",
              "      <td id=\"T_2ba86_row9_col11\" class=\"data row9 col11\" >0.031922</td>\n",
              "      <td id=\"T_2ba86_row9_col12\" class=\"data row9 col12\" >-0.018394</td>\n",
              "      <td id=\"T_2ba86_row9_col13\" class=\"data row9 col13\" >0.031042</td>\n",
              "      <td id=\"T_2ba86_row9_col14\" class=\"data row9 col14\" >0.030749</td>\n",
              "      <td id=\"T_2ba86_row9_col15\" class=\"data row9 col15\" >-0.001365</td>\n",
              "      <td id=\"T_2ba86_row9_col16\" class=\"data row9 col16\" >-0.028661</td>\n",
              "      <td id=\"T_2ba86_row9_col17\" class=\"data row9 col17\" >-0.011525</td>\n",
              "    </tr>\n",
              "    <tr>\n",
              "      <th id=\"T_2ba86_level0_row10\" class=\"row_heading level0 row10\" >10</th>\n",
              "      <td id=\"T_2ba86_row10_col0\" class=\"data row10 col0\" >0.003290</td>\n",
              "      <td id=\"T_2ba86_row10_col1\" class=\"data row10 col1\" >0.023403</td>\n",
              "      <td id=\"T_2ba86_row10_col2\" class=\"data row10 col2\" >0.032455</td>\n",
              "      <td id=\"T_2ba86_row10_col3\" class=\"data row10 col3\" >-0.027016</td>\n",
              "      <td id=\"T_2ba86_row10_col4\" class=\"data row10 col4\" >0.014997</td>\n",
              "      <td id=\"T_2ba86_row10_col5\" class=\"data row10 col5\" >-0.020132</td>\n",
              "      <td id=\"T_2ba86_row10_col6\" class=\"data row10 col6\" >-0.027613</td>\n",
              "      <td id=\"T_2ba86_row10_col7\" class=\"data row10 col7\" >-0.001573</td>\n",
              "      <td id=\"T_2ba86_row10_col8\" class=\"data row10 col8\" >-0.020487</td>\n",
              "      <td id=\"T_2ba86_row10_col9\" class=\"data row10 col9\" >-0.030759</td>\n",
              "      <td id=\"T_2ba86_row10_col10\" class=\"data row10 col10\" >-0.033376</td>\n",
              "      <td id=\"T_2ba86_row10_col11\" class=\"data row10 col11\" >-0.023905</td>\n",
              "      <td id=\"T_2ba86_row10_col12\" class=\"data row10 col12\" >0.029348</td>\n",
              "      <td id=\"T_2ba86_row10_col13\" class=\"data row10 col13\" >0.019918</td>\n",
              "      <td id=\"T_2ba86_row10_col14\" class=\"data row10 col14\" >-0.014137</td>\n",
              "      <td id=\"T_2ba86_row10_col15\" class=\"data row10 col15\" >-0.023904</td>\n",
              "      <td id=\"T_2ba86_row10_col16\" class=\"data row10 col16\" >-0.027473</td>\n",
              "      <td id=\"T_2ba86_row10_col17\" class=\"data row10 col17\" >-0.021090</td>\n",
              "    </tr>\n",
              "  </tbody>\n",
              "</table>\n"
            ]
          },
          "metadata": {},
          "execution_count": 119
        }
      ]
    },
    {
      "cell_type": "code",
      "source": [
        "class BasicOptim:\n",
        "    def __init__(self,params,lr): self.params,self.lr = list(params),lr\n",
        "\n",
        "    def step(self, *args, **kwargs):\n",
        "        for p in self.params: p.data -= p.grad.data * self.lr\n",
        "\n",
        "    def zero_grad(self, *args, **kwargs):\n",
        "        for p in self.params: p.grad = None"
      ],
      "metadata": {
        "id": "JisFJ4rFHiGT"
      },
      "execution_count": 120,
      "outputs": []
    },
    {
      "cell_type": "code",
      "source": [
        "opt = BasicOptim(linear_model.parameters(), lr)"
      ],
      "metadata": {
        "id": "20lnZWrUHyE6"
      },
      "execution_count": 121,
      "outputs": []
    },
    {
      "cell_type": "code",
      "source": [
        "def train_epoch(model):\n",
        "    for xb,yb in dl:\n",
        "        calc_grad(xb, yb, model)\n",
        "        opt.step()\n",
        "        opt.zero_grad()"
      ],
      "metadata": {
        "id": "aWN_c2_pH2cl"
      },
      "execution_count": 122,
      "outputs": []
    },
    {
      "cell_type": "code",
      "source": [
        "validate_epoch(linear_model)"
      ],
      "metadata": {
        "colab": {
          "base_uri": "https://localhost:8080/"
        },
        "id": "UTDy2mGsH-J6",
        "outputId": "d0a3e3ac-a1ff-472a-b174-638d15ecd0f8"
      },
      "execution_count": 123,
      "outputs": [
        {
          "output_type": "execute_result",
          "data": {
            "text/plain": [
              "0.768"
            ]
          },
          "metadata": {},
          "execution_count": 123
        }
      ]
    },
    {
      "cell_type": "code",
      "source": [
        "def train_model(model, epochs):\n",
        "    for i in range(epochs):\n",
        "        train_epoch(model)\n",
        "        print(validate_epoch(model), end=' ')"
      ],
      "metadata": {
        "id": "TCtoccoGID4l"
      },
      "execution_count": 124,
      "outputs": []
    },
    {
      "cell_type": "code",
      "source": [
        "train_model(linear_model, 20)"
      ],
      "metadata": {
        "colab": {
          "base_uri": "https://localhost:8080/"
        },
        "id": "UxuurEPKIItT",
        "outputId": "b3b08722-60e7-4f14-9df6-9857fa70772a"
      },
      "execution_count": 125,
      "outputs": [
        {
          "output_type": "stream",
          "name": "stdout",
          "text": [
            "0.4932 0.7339 0.8687 0.9194 0.9375 0.9517 0.9585 0.9639 0.9658 0.9678 0.9712 0.9722 0.9741 0.9751 0.9761 0.9771 0.9775 0.9775 0.9785 0.9785 "
          ]
        }
      ]
    },
    {
      "cell_type": "code",
      "source": [
        "# Equally using built-in Fastai\n",
        "linear_model = nn.Linear(28*28,1)\n",
        "opt = SGD(linear_model.parameters(), lr)\n",
        "train_model(linear_model, 20)"
      ],
      "metadata": {
        "colab": {
          "base_uri": "https://localhost:8080/"
        },
        "id": "oyJGfNX5IR2O",
        "outputId": "ec0993c7-250d-4cc2-f083-d9f452699f0e"
      },
      "execution_count": 126,
      "outputs": [
        {
          "output_type": "stream",
          "name": "stdout",
          "text": [
            "0.4932 0.8179 0.8467 0.9146 0.9346 0.9482 0.9561 0.9629 0.9663 0.9673 0.9697 0.9722 0.9736 0.9751 0.9756 0.9761 0.9775 0.978 0.9785 0.979 "
          ]
        }
      ]
    },
    {
      "cell_type": "code",
      "source": [
        "dls = DataLoaders(dl, valid_dl)"
      ],
      "metadata": {
        "id": "66Yz4fwvIqVY"
      },
      "execution_count": 249,
      "outputs": []
    },
    {
      "cell_type": "code",
      "source": [
        "learn = Learner(dls, nn.Linear(28*28,1), opt_func=SGD,\n",
        "                loss_func=mnist_loss, metrics=batch_accuracy)"
      ],
      "metadata": {
        "id": "dWjWnrhxIz3B"
      },
      "execution_count": 185,
      "outputs": []
    },
    {
      "cell_type": "code",
      "source": [
        "learn.fit(10, lr=lr)"
      ],
      "metadata": {
        "colab": {
          "base_uri": "https://localhost:8080/",
          "height": 363
        },
        "id": "A5hWZSCGI3kJ",
        "outputId": "43bc2f78-6c9c-4686-e36c-79bf0ce414a8"
      },
      "execution_count": 186,
      "outputs": [
        {
          "output_type": "display_data",
          "data": {
            "text/plain": [
              "<IPython.core.display.HTML object>"
            ],
            "text/html": [
              "\n",
              "<style>\n",
              "    /* Turns off some styling */\n",
              "    progress {\n",
              "        /* gets rid of default border in Firefox and Opera. */\n",
              "        border: none;\n",
              "        /* Needs to be in here for Safari polyfill so background images work as expected. */\n",
              "        background-size: auto;\n",
              "    }\n",
              "    .progress-bar-interrupted, .progress-bar-interrupted::-webkit-progress-bar {\n",
              "        background: #F44336;\n",
              "    }\n",
              "</style>\n"
            ]
          },
          "metadata": {}
        },
        {
          "output_type": "display_data",
          "data": {
            "text/plain": [
              "<IPython.core.display.HTML object>"
            ],
            "text/html": [
              "<table border=\"1\" class=\"dataframe\">\n",
              "  <thead>\n",
              "    <tr style=\"text-align: left;\">\n",
              "      <th>epoch</th>\n",
              "      <th>train_loss</th>\n",
              "      <th>valid_loss</th>\n",
              "      <th>batch_accuracy</th>\n",
              "      <th>time</th>\n",
              "    </tr>\n",
              "  </thead>\n",
              "  <tbody>\n",
              "    <tr>\n",
              "      <td>0</td>\n",
              "      <td>0.636346</td>\n",
              "      <td>0.503679</td>\n",
              "      <td>0.495584</td>\n",
              "      <td>00:00</td>\n",
              "    </tr>\n",
              "    <tr>\n",
              "      <td>1</td>\n",
              "      <td>0.627054</td>\n",
              "      <td>0.156707</td>\n",
              "      <td>0.889107</td>\n",
              "      <td>00:00</td>\n",
              "    </tr>\n",
              "    <tr>\n",
              "      <td>2</td>\n",
              "      <td>0.226813</td>\n",
              "      <td>0.296499</td>\n",
              "      <td>0.707066</td>\n",
              "      <td>00:00</td>\n",
              "    </tr>\n",
              "    <tr>\n",
              "      <td>3</td>\n",
              "      <td>0.097913</td>\n",
              "      <td>0.136838</td>\n",
              "      <td>0.883709</td>\n",
              "      <td>00:00</td>\n",
              "    </tr>\n",
              "    <tr>\n",
              "      <td>4</td>\n",
              "      <td>0.049994</td>\n",
              "      <td>0.091208</td>\n",
              "      <td>0.920510</td>\n",
              "      <td>00:00</td>\n",
              "    </tr>\n",
              "    <tr>\n",
              "      <td>5</td>\n",
              "      <td>0.031379</td>\n",
              "      <td>0.070038</td>\n",
              "      <td>0.940137</td>\n",
              "      <td>00:00</td>\n",
              "    </tr>\n",
              "    <tr>\n",
              "      <td>6</td>\n",
              "      <td>0.023716</td>\n",
              "      <td>0.057691</td>\n",
              "      <td>0.952404</td>\n",
              "      <td>00:00</td>\n",
              "    </tr>\n",
              "    <tr>\n",
              "      <td>7</td>\n",
              "      <td>0.020346</td>\n",
              "      <td>0.049713</td>\n",
              "      <td>0.959764</td>\n",
              "      <td>00:00</td>\n",
              "    </tr>\n",
              "    <tr>\n",
              "      <td>8</td>\n",
              "      <td>0.018691</td>\n",
              "      <td>0.044260</td>\n",
              "      <td>0.964671</td>\n",
              "      <td>00:00</td>\n",
              "    </tr>\n",
              "    <tr>\n",
              "      <td>9</td>\n",
              "      <td>0.017739</td>\n",
              "      <td>0.040346</td>\n",
              "      <td>0.966143</td>\n",
              "      <td>00:00</td>\n",
              "    </tr>\n",
              "  </tbody>\n",
              "</table>"
            ]
          },
          "metadata": {}
        }
      ]
    },
    {
      "cell_type": "code",
      "source": [
        "def simple_net(xb): \n",
        "    res = xb@w1 + b1\n",
        "    res = res.max(tensor(0.0))\n",
        "    res = res@w2 + b2\n",
        "    return res"
      ],
      "metadata": {
        "id": "T0dvKhcbJFnG"
      },
      "execution_count": 131,
      "outputs": []
    },
    {
      "cell_type": "code",
      "source": [
        "w1 = init_params((28*28,30))\n",
        "b1 = init_params(30)\n",
        "w2 = init_params((30,1))\n",
        "b2 = init_params(1)"
      ],
      "metadata": {
        "id": "3CB3vbVOJawq"
      },
      "execution_count": 132,
      "outputs": []
    },
    {
      "cell_type": "code",
      "source": [
        "simple_net = nn.Sequential(\n",
        "    nn.Linear(28*28,16),\n",
        "    nn.ReLU(),\n",
        "    nn.Linear(16,9),\n",
        "    nn.ReLU(),\n",
        "    nn.Linear(9,1)\n",
        ")"
      ],
      "metadata": {
        "id": "c4J9FH_fJyWr"
      },
      "execution_count": 259,
      "outputs": []
    },
    {
      "cell_type": "code",
      "source": [
        "simple_net = nn.Sequential(\n",
        "    nn.Linear(28*28,30),\n",
        "    nn.ReLU(),\n",
        "    nn.Linear(30,1)\n",
        ")"
      ],
      "metadata": {
        "id": "tmztgkCgWRhx"
      },
      "execution_count": 179,
      "outputs": []
    },
    {
      "cell_type": "code",
      "source": [
        "learn = Learner(dls, simple_net, opt_func=SGD,\n",
        "                loss_func=mnist_loss, metrics=batch_accuracy)"
      ],
      "metadata": {
        "id": "4iy3RBtLKWR4"
      },
      "execution_count": 260,
      "outputs": []
    },
    {
      "cell_type": "code",
      "source": [
        "learn.fit(40, 0.05)"
      ],
      "metadata": {
        "colab": {
          "base_uri": "https://localhost:8080/",
          "height": 1000
        },
        "id": "gOt0x1wCKeg1",
        "outputId": "24f55a5a-131e-4e32-f6d4-9c8891a017de"
      },
      "execution_count": 261,
      "outputs": [
        {
          "output_type": "display_data",
          "data": {
            "text/plain": [
              "<IPython.core.display.HTML object>"
            ],
            "text/html": [
              "\n",
              "<style>\n",
              "    /* Turns off some styling */\n",
              "    progress {\n",
              "        /* gets rid of default border in Firefox and Opera. */\n",
              "        border: none;\n",
              "        /* Needs to be in here for Safari polyfill so background images work as expected. */\n",
              "        background-size: auto;\n",
              "    }\n",
              "    .progress-bar-interrupted, .progress-bar-interrupted::-webkit-progress-bar {\n",
              "        background: #F44336;\n",
              "    }\n",
              "</style>\n"
            ]
          },
          "metadata": {}
        },
        {
          "output_type": "display_data",
          "data": {
            "text/plain": [
              "<IPython.core.display.HTML object>"
            ],
            "text/html": [
              "<table border=\"1\" class=\"dataframe\">\n",
              "  <thead>\n",
              "    <tr style=\"text-align: left;\">\n",
              "      <th>epoch</th>\n",
              "      <th>train_loss</th>\n",
              "      <th>valid_loss</th>\n",
              "      <th>batch_accuracy</th>\n",
              "      <th>time</th>\n",
              "    </tr>\n",
              "  </thead>\n",
              "  <tbody>\n",
              "    <tr>\n",
              "      <td>0</td>\n",
              "      <td>0.469452</td>\n",
              "      <td>0.475574</td>\n",
              "      <td>0.504416</td>\n",
              "      <td>00:00</td>\n",
              "    </tr>\n",
              "    <tr>\n",
              "      <td>1</td>\n",
              "      <td>0.365330</td>\n",
              "      <td>0.402996</td>\n",
              "      <td>0.505397</td>\n",
              "      <td>00:00</td>\n",
              "    </tr>\n",
              "    <tr>\n",
              "      <td>2</td>\n",
              "      <td>0.205238</td>\n",
              "      <td>0.249242</td>\n",
              "      <td>0.787537</td>\n",
              "      <td>00:00</td>\n",
              "    </tr>\n",
              "    <tr>\n",
              "      <td>3</td>\n",
              "      <td>0.112528</td>\n",
              "      <td>0.128525</td>\n",
              "      <td>0.910206</td>\n",
              "      <td>00:00</td>\n",
              "    </tr>\n",
              "    <tr>\n",
              "      <td>4</td>\n",
              "      <td>0.069062</td>\n",
              "      <td>0.084123</td>\n",
              "      <td>0.941119</td>\n",
              "      <td>00:00</td>\n",
              "    </tr>\n",
              "    <tr>\n",
              "      <td>5</td>\n",
              "      <td>0.048715</td>\n",
              "      <td>0.064584</td>\n",
              "      <td>0.953386</td>\n",
              "      <td>00:00</td>\n",
              "    </tr>\n",
              "    <tr>\n",
              "      <td>6</td>\n",
              "      <td>0.038638</td>\n",
              "      <td>0.053898</td>\n",
              "      <td>0.960255</td>\n",
              "      <td>00:00</td>\n",
              "    </tr>\n",
              "    <tr>\n",
              "      <td>7</td>\n",
              "      <td>0.033155</td>\n",
              "      <td>0.047279</td>\n",
              "      <td>0.964671</td>\n",
              "      <td>00:00</td>\n",
              "    </tr>\n",
              "    <tr>\n",
              "      <td>8</td>\n",
              "      <td>0.029809</td>\n",
              "      <td>0.042795</td>\n",
              "      <td>0.967615</td>\n",
              "      <td>00:00</td>\n",
              "    </tr>\n",
              "    <tr>\n",
              "      <td>9</td>\n",
              "      <td>0.027528</td>\n",
              "      <td>0.039539</td>\n",
              "      <td>0.968597</td>\n",
              "      <td>00:00</td>\n",
              "    </tr>\n",
              "    <tr>\n",
              "      <td>10</td>\n",
              "      <td>0.025830</td>\n",
              "      <td>0.037057</td>\n",
              "      <td>0.969087</td>\n",
              "      <td>00:00</td>\n",
              "    </tr>\n",
              "    <tr>\n",
              "      <td>11</td>\n",
              "      <td>0.024486</td>\n",
              "      <td>0.035096</td>\n",
              "      <td>0.972031</td>\n",
              "      <td>00:00</td>\n",
              "    </tr>\n",
              "    <tr>\n",
              "      <td>12</td>\n",
              "      <td>0.023382</td>\n",
              "      <td>0.033501</td>\n",
              "      <td>0.973013</td>\n",
              "      <td>00:00</td>\n",
              "    </tr>\n",
              "    <tr>\n",
              "      <td>13</td>\n",
              "      <td>0.022451</td>\n",
              "      <td>0.032167</td>\n",
              "      <td>0.973013</td>\n",
              "      <td>00:00</td>\n",
              "    </tr>\n",
              "    <tr>\n",
              "      <td>14</td>\n",
              "      <td>0.021651</td>\n",
              "      <td>0.031028</td>\n",
              "      <td>0.974975</td>\n",
              "      <td>00:00</td>\n",
              "    </tr>\n",
              "    <tr>\n",
              "      <td>15</td>\n",
              "      <td>0.020956</td>\n",
              "      <td>0.030036</td>\n",
              "      <td>0.974485</td>\n",
              "      <td>00:00</td>\n",
              "    </tr>\n",
              "    <tr>\n",
              "      <td>16</td>\n",
              "      <td>0.020343</td>\n",
              "      <td>0.029160</td>\n",
              "      <td>0.974485</td>\n",
              "      <td>00:00</td>\n",
              "    </tr>\n",
              "    <tr>\n",
              "      <td>17</td>\n",
              "      <td>0.019797</td>\n",
              "      <td>0.028376</td>\n",
              "      <td>0.975957</td>\n",
              "      <td>00:00</td>\n",
              "    </tr>\n",
              "    <tr>\n",
              "      <td>18</td>\n",
              "      <td>0.019306</td>\n",
              "      <td>0.027666</td>\n",
              "      <td>0.976448</td>\n",
              "      <td>00:00</td>\n",
              "    </tr>\n",
              "    <tr>\n",
              "      <td>19</td>\n",
              "      <td>0.018862</td>\n",
              "      <td>0.027019</td>\n",
              "      <td>0.976448</td>\n",
              "      <td>00:00</td>\n",
              "    </tr>\n",
              "    <tr>\n",
              "      <td>20</td>\n",
              "      <td>0.018456</td>\n",
              "      <td>0.026427</td>\n",
              "      <td>0.976938</td>\n",
              "      <td>00:00</td>\n",
              "    </tr>\n",
              "    <tr>\n",
              "      <td>21</td>\n",
              "      <td>0.018084</td>\n",
              "      <td>0.025881</td>\n",
              "      <td>0.977429</td>\n",
              "      <td>00:00</td>\n",
              "    </tr>\n",
              "    <tr>\n",
              "      <td>22</td>\n",
              "      <td>0.017741</td>\n",
              "      <td>0.025377</td>\n",
              "      <td>0.978410</td>\n",
              "      <td>00:00</td>\n",
              "    </tr>\n",
              "    <tr>\n",
              "      <td>23</td>\n",
              "      <td>0.017423</td>\n",
              "      <td>0.024911</td>\n",
              "      <td>0.978410</td>\n",
              "      <td>00:00</td>\n",
              "    </tr>\n",
              "    <tr>\n",
              "      <td>24</td>\n",
              "      <td>0.017127</td>\n",
              "      <td>0.024481</td>\n",
              "      <td>0.978901</td>\n",
              "      <td>00:00</td>\n",
              "    </tr>\n",
              "    <tr>\n",
              "      <td>25</td>\n",
              "      <td>0.016850</td>\n",
              "      <td>0.024081</td>\n",
              "      <td>0.980373</td>\n",
              "      <td>00:00</td>\n",
              "    </tr>\n",
              "    <tr>\n",
              "      <td>26</td>\n",
              "      <td>0.016589</td>\n",
              "      <td>0.023709</td>\n",
              "      <td>0.980373</td>\n",
              "      <td>00:00</td>\n",
              "    </tr>\n",
              "    <tr>\n",
              "      <td>27</td>\n",
              "      <td>0.016345</td>\n",
              "      <td>0.023363</td>\n",
              "      <td>0.980373</td>\n",
              "      <td>00:00</td>\n",
              "    </tr>\n",
              "    <tr>\n",
              "      <td>28</td>\n",
              "      <td>0.016113</td>\n",
              "      <td>0.023040</td>\n",
              "      <td>0.980864</td>\n",
              "      <td>00:00</td>\n",
              "    </tr>\n",
              "    <tr>\n",
              "      <td>29</td>\n",
              "      <td>0.015893</td>\n",
              "      <td>0.022738</td>\n",
              "      <td>0.981354</td>\n",
              "      <td>00:00</td>\n",
              "    </tr>\n",
              "    <tr>\n",
              "      <td>30</td>\n",
              "      <td>0.015684</td>\n",
              "      <td>0.022456</td>\n",
              "      <td>0.980864</td>\n",
              "      <td>00:00</td>\n",
              "    </tr>\n",
              "    <tr>\n",
              "      <td>31</td>\n",
              "      <td>0.015484</td>\n",
              "      <td>0.022191</td>\n",
              "      <td>0.980373</td>\n",
              "      <td>00:00</td>\n",
              "    </tr>\n",
              "    <tr>\n",
              "      <td>32</td>\n",
              "      <td>0.015294</td>\n",
              "      <td>0.021942</td>\n",
              "      <td>0.980373</td>\n",
              "      <td>00:00</td>\n",
              "    </tr>\n",
              "    <tr>\n",
              "      <td>33</td>\n",
              "      <td>0.015113</td>\n",
              "      <td>0.021709</td>\n",
              "      <td>0.980864</td>\n",
              "      <td>00:00</td>\n",
              "    </tr>\n",
              "    <tr>\n",
              "      <td>34</td>\n",
              "      <td>0.014939</td>\n",
              "      <td>0.021489</td>\n",
              "      <td>0.980864</td>\n",
              "      <td>00:00</td>\n",
              "    </tr>\n",
              "    <tr>\n",
              "      <td>35</td>\n",
              "      <td>0.014773</td>\n",
              "      <td>0.021283</td>\n",
              "      <td>0.980864</td>\n",
              "      <td>00:00</td>\n",
              "    </tr>\n",
              "    <tr>\n",
              "      <td>36</td>\n",
              "      <td>0.014614</td>\n",
              "      <td>0.021088</td>\n",
              "      <td>0.981354</td>\n",
              "      <td>00:00</td>\n",
              "    </tr>\n",
              "    <tr>\n",
              "      <td>37</td>\n",
              "      <td>0.014461</td>\n",
              "      <td>0.020904</td>\n",
              "      <td>0.981354</td>\n",
              "      <td>00:00</td>\n",
              "    </tr>\n",
              "    <tr>\n",
              "      <td>38</td>\n",
              "      <td>0.014313</td>\n",
              "      <td>0.020730</td>\n",
              "      <td>0.981354</td>\n",
              "      <td>00:00</td>\n",
              "    </tr>\n",
              "    <tr>\n",
              "      <td>39</td>\n",
              "      <td>0.014172</td>\n",
              "      <td>0.020566</td>\n",
              "      <td>0.981354</td>\n",
              "      <td>00:00</td>\n",
              "    </tr>\n",
              "  </tbody>\n",
              "</table>"
            ]
          },
          "metadata": {}
        }
      ]
    },
    {
      "cell_type": "code",
      "source": [
        "plt.plot(L(learn.recorder.values).itemgot(2));"
      ],
      "metadata": {
        "colab": {
          "base_uri": "https://localhost:8080/",
          "height": 271
        },
        "id": "h2EgcCbmKq_r",
        "outputId": "288b3c67-8051-45ea-991a-c66571c7c345"
      },
      "execution_count": 262,
      "outputs": [
        {
          "output_type": "display_data",
          "data": {
            "text/plain": [
              "<Figure size 432x288 with 1 Axes>"
            ],
            "image/png": "[encoded data removed]"
          },
          "metadata": {
            "needs_background": "light"
          }
        }
      ]
    },
    {
      "cell_type": "code",
      "source": [
        "learn.recorder.values[-1][2]"
      ],
      "metadata": {
        "colab": {
          "base_uri": "https://localhost:8080/"
        },
        "id": "2CxUbCdZKz44",
        "outputId": "1643da4c-63bd-49f9-ba42-b8fc0955d0cf"
      },
      "execution_count": 142,
      "outputs": [
        {
          "output_type": "execute_result",
          "data": {
            "text/plain": [
              "0.9808635711669922"
            ]
          },
          "metadata": {},
          "execution_count": 142
        }
      ]
    },
    {
      "cell_type": "code",
      "source": [
        "dls = ImageDataLoaders.from_folder(path)\n",
        "learn = vision_learner(dls, resnet18, pretrained=False,\n",
        "                    loss_func=F.cross_entropy, metrics=accuracy)\n",
        "learn.fit_one_cycle(3, 0.1)"
      ],
      "metadata": {
        "colab": {
          "base_uri": "https://localhost:8080/",
          "height": 143
        },
        "id": "v5EVgOCKMbAI",
        "outputId": "d5d5d0ec-9aca-462d-ce67-a522265eaef3"
      },
      "execution_count": 240,
      "outputs": [
        {
          "output_type": "display_data",
          "data": {
            "text/plain": [
              "<IPython.core.display.HTML object>"
            ],
            "text/html": [
              "\n",
              "<style>\n",
              "    /* Turns off some styling */\n",
              "    progress {\n",
              "        /* gets rid of default border in Firefox and Opera. */\n",
              "        border: none;\n",
              "        /* Needs to be in here for Safari polyfill so background images work as expected. */\n",
              "        background-size: auto;\n",
              "    }\n",
              "    .progress-bar-interrupted, .progress-bar-interrupted::-webkit-progress-bar {\n",
              "        background: #F44336;\n",
              "    }\n",
              "</style>\n"
            ]
          },
          "metadata": {}
        },
        {
          "output_type": "display_data",
          "data": {
            "text/plain": [
              "<IPython.core.display.HTML object>"
            ],
            "text/html": [
              "<table border=\"1\" class=\"dataframe\">\n",
              "  <thead>\n",
              "    <tr style=\"text-align: left;\">\n",
              "      <th>epoch</th>\n",
              "      <th>train_loss</th>\n",
              "      <th>valid_loss</th>\n",
              "      <th>accuracy</th>\n",
              "      <th>time</th>\n",
              "    </tr>\n",
              "  </thead>\n",
              "  <tbody>\n",
              "    <tr>\n",
              "      <td>0</td>\n",
              "      <td>0.324402</td>\n",
              "      <td>0.085072</td>\n",
              "      <td>0.992149</td>\n",
              "      <td>00:18</td>\n",
              "    </tr>\n",
              "    <tr>\n",
              "      <td>1</td>\n",
              "      <td>0.056413</td>\n",
              "      <td>0.005207</td>\n",
              "      <td>0.998037</td>\n",
              "      <td>00:19</td>\n",
              "    </tr>\n",
              "    <tr>\n",
              "      <td>2</td>\n",
              "      <td>0.008739</td>\n",
              "      <td>0.005043</td>\n",
              "      <td>0.997547</td>\n",
              "      <td>00:19</td>\n",
              "    </tr>\n",
              "  </tbody>\n",
              "</table>"
            ]
          },
          "metadata": {}
        }
      ]
    },
    {
      "cell_type": "code",
      "source": [
        "learn.model\n"
      ],
      "metadata": {
        "colab": {
          "base_uri": "https://localhost:8080/"
        },
        "id": "K_0kb0Y-QQxg",
        "outputId": "28988fa3-4f56-4bae-b911-8ab4e3b97c66"
      },
      "execution_count": 263,
      "outputs": [
        {
          "output_type": "execute_result",
          "data": {
            "text/plain": [
              "Sequential(\n",
              "  (0): Linear(in_features=784, out_features=16, bias=True)\n",
              "  (1): ReLU()\n",
              "  (2): Linear(in_features=16, out_features=9, bias=True)\n",
              "  (3): ReLU()\n",
              "  (4): Linear(in_features=9, out_features=1, bias=True)\n",
              ")"
            ]
          },
          "metadata": {},
          "execution_count": 263
        }
      ]
    },
    {
      "cell_type": "code",
      "source": [
        "m=learn.model\n",
        "m[0]"
      ],
      "metadata": {
        "colab": {
          "base_uri": "https://localhost:8080/"
        },
        "id": "m8d09kESQxOI",
        "outputId": "29a4fb87-4b8b-4650-bfa0-ad2a09ebc36a"
      },
      "execution_count": 264,
      "outputs": [
        {
          "output_type": "execute_result",
          "data": {
            "text/plain": [
              "Linear(in_features=784, out_features=16, bias=True)"
            ]
          },
          "metadata": {},
          "execution_count": 264
        }
      ]
    },
    {
      "cell_type": "code",
      "source": [
        "w,b = m[0].parameters()"
      ],
      "metadata": {
        "id": "Pc4-X95pQ3qs"
      },
      "execution_count": 265,
      "outputs": []
    },
    {
      "cell_type": "code",
      "source": [
        "w.shape"
      ],
      "metadata": {
        "colab": {
          "base_uri": "https://localhost:8080/"
        },
        "id": "T4rNG2-PRDt_",
        "outputId": "da46d36c-f05a-4603-8b7d-c6592a9f55a6"
      },
      "execution_count": 266,
      "outputs": [
        {
          "output_type": "execute_result",
          "data": {
            "text/plain": [
              "torch.Size([16, 784])"
            ]
          },
          "metadata": {},
          "execution_count": 266
        }
      ]
    },
    {
      "cell_type": "code",
      "source": [
        "show_image(w[10].view(28,28))"
      ],
      "metadata": {
        "colab": {
          "base_uri": "https://localhost:8080/",
          "height": 102
        },
        "id": "I9BkOLcGRLPC",
        "outputId": "6e711913-7495-4a6d-b9ff-930ee253773d"
      },
      "execution_count": 267,
      "outputs": [
        {
          "output_type": "execute_result",
          "data": {
            "text/plain": [
              "<matplotlib.axes._subplots.AxesSubplot at 0x7fedb8663450>"
            ]
          },
          "metadata": {},
          "execution_count": 267
        },
        {
          "output_type": "display_data",
          "data": {
            "text/plain": [
              "<Figure size 72x72 with 1 Axes>"
            ],
            "image/png": "[encoded data removed]"
          },
          "metadata": {
            "needs_background": "light"
          }
        }
      ]
    },
    {
      "cell_type": "code",
      "source": [
        "for x in range(16):\n",
        "  #print(x)\n",
        "  show_image(w[x].view(28,28))"
      ],
      "metadata": {
        "colab": {
          "base_uri": "https://localhost:8080/",
          "height": 1000
        },
        "id": "JjKZBDTFhOCW",
        "outputId": "7e43a39d-59c5-412a-8e47-c2fa78c14810"
      },
      "execution_count": 268,
      "outputs": [
        {
          "output_type": "display_data",
          "data": {
            "text/plain": [
              "<Figure size 72x72 with 1 Axes>"
            ],
            "image/png": "[encoded data removed]"
          },
          "metadata": {
            "needs_background": "light"
          }
        },
        {
          "output_type": "display_data",
          "data": {
            "text/plain": [
              "<Figure size 72x72 with 1 Axes>"
            ],
            "image/png": "[encoded data removed]"
          },
          "metadata": {
            "needs_background": "light"
          }
        },
        {
          "output_type": "display_data",
          "data": {
            "text/plain": [
              "<Figure size 72x72 with 1 Axes>"
            ],
            "image/png": "[encoded data removed]"
          },
          "metadata": {
            "needs_background": "light"
          }
        },
        {
          "output_type": "display_data",
          "data": {
            "text/plain": [
              "<Figure size 72x72 with 1 Axes>"
            ],
            "image/png": "[encoded data removed]"
          },
          "metadata": {
            "needs_background": "light"
          }
        },
        {
          "output_type": "display_data",
          "data": {
            "text/plain": [
              "<Figure size 72x72 with 1 Axes>"
            ],
            "image/png": "[encoded data removed]"
          },
          "metadata": {
            "needs_background": "light"
          }
        },
        {
          "output_type": "display_data",
          "data": {
            "text/plain": [
              "<Figure size 72x72 with 1 Axes>"
            ],
            "image/png": "[encoded data removed]"
          },
          "metadata": {
            "needs_background": "light"
          }
        },
        {
          "output_type": "display_data",
          "data": {
            "text/plain": [
              "<Figure size 72x72 with 1 Axes>"
            ],
            "image/png": "[encoded data removed]"
          },
          "metadata": {
            "needs_background": "light"
          }
        },
        {
          "output_type": "display_data",
          "data": {
            "text/plain": [
              "<Figure size 72x72 with 1 Axes>"
            ],
            "image/png": "[encoded data removed]"
          },
          "metadata": {
            "needs_background": "light"
          }
        },
        {
          "output_type": "display_data",
          "data": {
            "text/plain": [
              "<Figure size 72x72 with 1 Axes>"
            ],
            "image/png": "[encoded data removed]"
          },
          "metadata": {
            "needs_background": "light"
          }
        },
        {
          "output_type": "display_data",
          "data": {
            "text/plain": [
              "<Figure size 72x72 with 1 Axes>"
            ],
            "image/png": "[encoded data removed]"
          },
          "metadata": {
            "needs_background": "light"
          }
        },
        {
          "output_type": "display_data",
          "data": {
            "text/plain": [
              "<Figure size 72x72 with 1 Axes>"
            ],
            "image/png": "[encoded data removed]"
          },
          "metadata": {
            "needs_background": "light"
          }
        },
        {
          "output_type": "display_data",
          "data": {
            "text/plain": [
              "<Figure size 72x72 with 1 Axes>"
            ],
            "image/png": "[encoded data removed]"
          },
          "metadata": {
            "needs_background": "light"
          }
        },
        {
          "output_type": "display_data",
          "data": {
            "text/plain": [
              "<Figure size 72x72 with 1 Axes>"
            ],
            "image/png": "[encoded data removed]"
          },
          "metadata": {
            "needs_background": "light"
          }
        },
        {
          "output_type": "display_data",
          "data": {
            "text/plain": [
              "<Figure size 72x72 with 1 Axes>"
            ],
            "image/png": "[encoded data removed]"
          },
          "metadata": {
            "needs_background": "light"
          }
        },
        {
          "output_type": "display_data",
          "data": {
            "text/plain": [
              "<Figure size 72x72 with 1 Axes>"
            ],
            "image/png": "[encoded data removed]"
          },
          "metadata": {
            "needs_background": "light"
          }
        },
        {
          "output_type": "display_data",
          "data": {
            "text/plain": [
              "<Figure size 72x72 with 1 Axes>"
            ],
            "image/png": "[encoded data removed]"
          },
          "metadata": {
            "needs_background": "light"
          }
        }
      ]
    }
  ]
}